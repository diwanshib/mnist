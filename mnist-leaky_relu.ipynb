{
 "cells": [
  {
   "cell_type": "markdown",
   "metadata": {},
   "source": [
    "# MNIST best results\n",
    "Result\tMethod\tVenue\tDetails\n",
    "1. 0.21%\tRegularization of Neural Networks using DropConnect\tICML 2013\t\n",
    "2. 0.23%\tMulti-column Deep Neural Networks for Image Classiﬁcation\tCVPR 2012\t\n",
    "3. 0.23%\tAPAC: Augmented PAttern Classification with Neural Networks\tarXiv 2015\t\n",
    "4. 0.24%\tBatch-normalized Maxout Network in Network\tarXiv 2015\tDetails\n",
    "5. 0.29%\tGeneralizing Pooling Functions in Convolutional Neural Networks: Mixed, Gated, and Tree\tAISTATS 2016\tDetails\n",
    "6. 0.31%\tRecurrent Convolutional Neural Network for Object Recognition\tCVPR 2015\t\n",
    "\n",
    "http://rodrigob.github.io/are_we_there_yet/build/classification_datasets_results.html"
   ]
  },
  {
   "cell_type": "markdown",
   "metadata": {},
   "source": [
    "## Results of this model on MNIST test data: \n",
    "1. 0.22% test error rate with ensemble of 10 CNNs\n",
    "2. 0.21% test error rate with ensemble of 6 selected CNNs\n",
    "3. 0.26% test error rate for best single model (model was trained for a few more epochs)"
   ]
  },
  {
   "cell_type": "code",
   "execution_count": 1,
   "metadata": {
    "collapsed": true
   },
   "outputs": [],
   "source": [
    "%matplotlib inline"
   ]
  },
  {
   "cell_type": "code",
   "execution_count": 2,
   "metadata": {},
   "outputs": [
    {
     "name": "stderr",
     "output_type": "stream",
     "text": [
      "Using Theano backend.\n",
      "WARNING (theano.sandbox.cuda): The cuda backend is deprecated and will be removed in the next release (v0.10).  Please switch to the gpuarray backend. You can get more information about how to switch at this URL:\n",
      " https://github.com/Theano/Theano/wiki/Converting-to-the-new-gpu-back-end%28gpuarray%29\n",
      "\n",
      "Using gpu device 0: GeForce GTX 1070 (CNMeM is enabled with initial size: 90.0% of memory, cuDNN 5103)\n"
     ]
    }
   ],
   "source": [
    "import keras\n",
    "import numpy as np\n",
    "from keras.datasets import mnist\n",
    "from keras.layers import Dense, Dropout, Conv2D, MaxPooling2D\n",
    "from keras.layers import Flatten, Lambda, BatchNormalization\n",
    "from keras.models import Sequential\n",
    "from keras.optimizers import Adam as Adam\n",
    "\n",
    "# try leaky relu\n",
    "from keras.layers.advanced_activations import LeakyReLU"
   ]
  },
  {
   "cell_type": "markdown",
   "metadata": {},
   "source": [
    "# Load MNIST dataset"
   ]
  },
  {
   "cell_type": "code",
   "execution_count": 3,
   "metadata": {
    "collapsed": true
   },
   "outputs": [],
   "source": [
    "(x_train, y_train), (x_test, y_test) = mnist.load_data()\n",
    "\n",
    "# store labels on test set for visualization\n",
    "test_labels = y_test"
   ]
  },
  {
   "cell_type": "code",
   "execution_count": 4,
   "metadata": {
    "collapsed": true
   },
   "outputs": [],
   "source": [
    "rows = 28\n",
    "cols = 28\n",
    "\n",
    "# theano input shape\n",
    "input_shape = (1, rows, cols)"
   ]
  },
  {
   "cell_type": "code",
   "execution_count": 5,
   "metadata": {},
   "outputs": [
    {
     "data": {
      "text/plain": [
       "(60000, 28, 28)"
      ]
     },
     "execution_count": 5,
     "metadata": {},
     "output_type": "execute_result"
    }
   ],
   "source": [
    "x_train.shape"
   ]
  },
  {
   "cell_type": "code",
   "execution_count": 6,
   "metadata": {},
   "outputs": [
    {
     "data": {
      "text/plain": [
       "(60000, 1, 28, 28)"
      ]
     },
     "execution_count": 6,
     "metadata": {},
     "output_type": "execute_result"
    }
   ],
   "source": [
    "# vgg expects channels - here we have just one\n",
    "x_train = x_train.reshape(x_train.shape[0], 1, 28, 28)\n",
    "x_test = x_test.reshape(x_test.shape[0], 1, 28, 28)\n",
    "x_train.shape"
   ]
  },
  {
   "cell_type": "code",
   "execution_count": 7,
   "metadata": {
    "collapsed": true
   },
   "outputs": [],
   "source": [
    "# convert to float\n",
    "x_train = x_train.astype(np.float32)\n",
    "x_test = x_test.astype(np.float32)\n",
    "\n",
    "# normalize\n",
    "x_train /= 255\n",
    "x_test /= 255"
   ]
  },
  {
   "cell_type": "code",
   "execution_count": 8,
   "metadata": {},
   "outputs": [
    {
     "data": {
      "text/plain": [
       "(60000,)"
      ]
     },
     "execution_count": 8,
     "metadata": {},
     "output_type": "execute_result"
    }
   ],
   "source": [
    "y_train.shape"
   ]
  },
  {
   "cell_type": "code",
   "execution_count": 9,
   "metadata": {},
   "outputs": [
    {
     "data": {
      "text/plain": [
       "(60000, 10)"
      ]
     },
     "execution_count": 9,
     "metadata": {},
     "output_type": "execute_result"
    }
   ],
   "source": [
    "# labels should be onehot encoded\n",
    "y_train = keras.utils.to_categorical(y_train, 10)\n",
    "y_test = keras.utils.to_categorical(y_test, 10)\n",
    "\n",
    "y_train.shape"
   ]
  },
  {
   "cell_type": "code",
   "execution_count": 10,
   "metadata": {
    "scrolled": true
   },
   "outputs": [
    {
     "data": {
      "text/plain": [
       "array([[ 0.,  0.,  0.,  0.,  0.,  1.,  0.,  0.,  0.,  0.],\n",
       "       [ 1.,  0.,  0.,  0.,  0.,  0.,  0.,  0.,  0.,  0.],\n",
       "       [ 0.,  0.,  0.,  0.,  1.,  0.,  0.,  0.,  0.,  0.],\n",
       "       [ 0.,  1.,  0.,  0.,  0.,  0.,  0.,  0.,  0.,  0.],\n",
       "       [ 0.,  0.,  0.,  0.,  0.,  0.,  0.,  0.,  0.,  1.]])"
      ]
     },
     "execution_count": 10,
     "metadata": {},
     "output_type": "execute_result"
    }
   ],
   "source": [
    "y_train[:5]"
   ]
  },
  {
   "cell_type": "markdown",
   "metadata": {},
   "source": [
    "# Define model"
   ]
  },
  {
   "cell_type": "code",
   "execution_count": 11,
   "metadata": {
    "collapsed": true
   },
   "outputs": [],
   "source": [
    "# calculate mean and standard deviation\n",
    "mean_px = x_train.mean().astype(np.float32)\n",
    "std_px = x_train.std().astype(np.float32)"
   ]
  },
  {
   "cell_type": "code",
   "execution_count": 12,
   "metadata": {
    "collapsed": true
   },
   "outputs": [],
   "source": [
    "# function to normalize input data\n",
    "def norm_input(x): return (x-mean_px)/std_px"
   ]
  },
  {
   "cell_type": "code",
   "execution_count": 13,
   "metadata": {
    "collapsed": true
   },
   "outputs": [],
   "source": [
    "# Batchnorm + dropout + data augmentation\n",
    "def create_model():\n",
    "    model = Sequential([\n",
    "        Lambda(norm_input, input_shape=(1,28,28), output_shape=(1,28,28)),\n",
    "        Conv2D(32, (3,3)),\n",
    "        LeakyReLU(),\n",
    "        BatchNormalization(axis=1),\n",
    "        Conv2D(32, (3,3)),\n",
    "        LeakyReLU(),\n",
    "        MaxPooling2D(),\n",
    "        BatchNormalization(axis=1),\n",
    "        Conv2D(64, (3,3)),\n",
    "        LeakyReLU(),\n",
    "        BatchNormalization(axis=1),\n",
    "        Conv2D(64, (3,3)),\n",
    "        LeakyReLU(),\n",
    "        MaxPooling2D(),\n",
    "        Flatten(),\n",
    "        BatchNormalization(),\n",
    "        Dense(512),\n",
    "        LeakyReLU(),\n",
    "        BatchNormalization(),\n",
    "        Dropout(0.3),\n",
    "        Dense(10, activation='softmax')\n",
    "    ])\n",
    "    model.compile(Adam(), loss='categorical_crossentropy', metrics=['accuracy'])\n",
    "    return model"
   ]
  },
  {
   "cell_type": "markdown",
   "metadata": {},
   "source": [
    "# Data augmentation\n",
    "Use keras's data augmentation."
   ]
  },
  {
   "cell_type": "code",
   "execution_count": 14,
   "metadata": {
    "collapsed": true
   },
   "outputs": [],
   "source": [
    "batch_size = 512"
   ]
  },
  {
   "cell_type": "code",
   "execution_count": 15,
   "metadata": {
    "collapsed": true
   },
   "outputs": [],
   "source": [
    "from keras.preprocessing.image import ImageDataGenerator"
   ]
  },
  {
   "cell_type": "code",
   "execution_count": 16,
   "metadata": {
    "collapsed": true
   },
   "outputs": [],
   "source": [
    "gen = ImageDataGenerator(rotation_range=12, width_shift_range=0.1, shear_range=0.3,\n",
    "                        height_shift_range=0.1, zoom_range=0.1, data_format='channels_first')\n",
    "batches = gen.flow(x_train, y_train, batch_size=batch_size)\n",
    "test_batches = gen.flow(x_test, y_test, batch_size=batch_size)\n",
    "steps_per_epoch = int(np.ceil(batches.n/batch_size))\n",
    "validation_steps = int(np.ceil(test_batches.n/batch_size))"
   ]
  },
  {
   "cell_type": "code",
   "execution_count": 17,
   "metadata": {},
   "outputs": [
    {
     "data": {
      "text/plain": [
       "<matplotlib.image.AxesImage at 0x7f5dd66d0898>"
      ]
     },
     "execution_count": 17,
     "metadata": {},
     "output_type": "execute_result"
    },
    {
     "data": {
      "image/png": "[encoded data removed]",
      "text/plain": [
       "<matplotlib.figure.Figure at 0x7f5dd5a78160>"
      ]
     },
     "metadata": {},
     "output_type": "display_data"
    }
   ],
   "source": [
    "import matplotlib.pyplot as plt\n",
    "\n",
    "# load ONE image from training set to display on screen\n",
    "img = x_train[1]\n",
    "\n",
    "# visualize original image\n",
    "plt.imshow(img[0], cmap='gray')"
   ]
  },
  {
   "cell_type": "code",
   "execution_count": 18,
   "metadata": {
    "collapsed": true
   },
   "outputs": [],
   "source": [
    "# trick our generator into believing img has enough dimensions\n",
    "# and get some augmented images for our single test image\n",
    "img = np.expand_dims(img, axis=0)\n",
    "aug_iter = gen.flow(img)"
   ]
  },
  {
   "cell_type": "code",
   "execution_count": 19,
   "metadata": {},
   "outputs": [
    {
     "data": {
      "text/plain": [
       "(1, 28, 28)"
      ]
     },
     "execution_count": 19,
     "metadata": {},
     "output_type": "execute_result"
    }
   ],
   "source": [
    "aug_img = next(aug_iter)[0].astype(np.float32)\n",
    "aug_img.shape"
   ]
  },
  {
   "cell_type": "code",
   "execution_count": 20,
   "metadata": {},
   "outputs": [
    {
     "data": {
      "image/png": "[encoded data removed]",
      "text/plain": [
       "<matplotlib.figure.Figure at 0x7f5dd6628f60>"
      ]
     },
     "metadata": {},
     "output_type": "display_data"
    }
   ],
   "source": [
    "import matplotlib.pyplot as plt\n",
    "\n",
    "# show augmented images\n",
    "f = plt.figure(figsize=(12,6))\n",
    "for i in range(8):\n",
    "    sp = f.add_subplot(2, 26//3, i+1)\n",
    "    sp.axis('Off')\n",
    "    aug_img = next(aug_iter)[0].astype(np.float32)\n",
    "    plt.imshow(aug_img[0], cmap='gray')"
   ]
  },
  {
   "cell_type": "markdown",
   "metadata": {},
   "source": [
    "# Create models with saved weights"
   ]
  },
  {
   "cell_type": "code",
   "execution_count": 69,
   "metadata": {
    "collapsed": true
   },
   "outputs": [],
   "source": [
    "models = []\n",
    "\n",
    "for i in range(10):\n",
    "    m = create_model()\n",
    "    m.load_weights(\"weights/weights_leaky_relu_model_0.22_\"+str(i)+'.pkl')\n",
    "    models.append(m)"
   ]
  },
  {
   "cell_type": "markdown",
   "metadata": {},
   "source": [
    "# Ensembling\n",
    "Here we create ten models and fit them to our augmented data. We use the mean prediction from all ten classifiers as our final prediction. This should average out errors in our classifiers and enable us to predict with higher accuracy."
   ]
  },
  {
   "cell_type": "code",
   "execution_count": 21,
   "metadata": {
    "collapsed": true
   },
   "outputs": [],
   "source": [
    "# fit the model on batches with real-time data augmentation\n",
    "def fit_model(m):\n",
    "    m.fit_generator(batches, steps_per_epoch=steps_per_epoch, epochs=1, verbose=0,\n",
    "                   validation_data=test_batches, validation_steps=validation_steps)\n",
    "    m.optimizer.lr = 0.1\n",
    "    m.fit_generator(batches, steps_per_epoch=steps_per_epoch, epochs=4, verbose=0,\n",
    "                   validation_data=test_batches, validation_steps=validation_steps)\n",
    "    m.optimizer.lr = 0.01\n",
    "    m.fit_generator(batches, steps_per_epoch=steps_per_epoch, epochs=12, verbose=0,\n",
    "                   validation_data=test_batches, validation_steps=validation_steps)\n",
    "    m.optimizer.lr = 0.001\n",
    "    m.fit_generator(batches, steps_per_epoch=steps_per_epoch, epochs=18, verbose=0,\n",
    "                   validation_data=test_batches, validation_steps=validation_steps)\n",
    "    return m"
   ]
  },
  {
   "cell_type": "markdown",
   "metadata": {},
   "source": [
    "## Create and train ten models"
   ]
  },
  {
   "cell_type": "code",
   "execution_count": null,
   "metadata": {
    "collapsed": true
   },
   "outputs": [],
   "source": [
    "models = []\n",
    "\n",
    "for i in range(10):\n",
    "    print(\"Training model {}\".format(i))\n",
    "    m = fit_model(create_model())\n",
    "    models.append(m)"
   ]
  },
  {
   "cell_type": "code",
   "execution_count": null,
   "metadata": {
    "collapsed": true
   },
   "outputs": [],
   "source": [
    "# train models some more if accuracy is not satisfying enough\n",
    "for i, m in enumerate(models):\n",
    "    m.optimizer.lr = 0.0001\n",
    "    print(\"Model {}\".format(i))\n",
    "    m.fit_generator(batches, steps_per_epoch=steps_per_epoch, epochs=2,\n",
    "                   validation_data=test_batches, validation_steps=validation_steps)"
   ]
  },
  {
   "cell_type": "markdown",
   "metadata": {},
   "source": [
    "# Evaluate Model"
   ]
  },
  {
   "cell_type": "code",
   "execution_count": 22,
   "metadata": {
    "collapsed": true
   },
   "outputs": [],
   "source": [
    "eval_batch_size = 512"
   ]
  },
  {
   "cell_type": "code",
   "execution_count": 52,
   "metadata": {},
   "outputs": [
    {
     "name": "stdout",
     "output_type": "stream",
     "text": [
      " 9728/10000 [============================>.] - ETA: 0s"
     ]
    }
   ],
   "source": [
    "# evaluate every model\n",
    "evals = np.array([m.evaluate(x_test,y_test, batch_size=eval_batch_size) for m in models])"
   ]
  },
  {
   "cell_type": "code",
   "execution_count": 53,
   "metadata": {},
   "outputs": [
    {
     "data": {
      "text/plain": [
       "array([ 0.01117255,  0.99643   ])"
      ]
     },
     "execution_count": 53,
     "metadata": {},
     "output_type": "execute_result"
    }
   ],
   "source": [
    "# calculate mean from evaluations\n",
    "evals.mean(axis=0)"
   ]
  },
  {
   "cell_type": "code",
   "execution_count": 54,
   "metadata": {
    "collapsed": true
   },
   "outputs": [],
   "source": [
    "all_preds = np.stack([m.predict(x_test, batch_size=eval_batch_size) for m in models])"
   ]
  },
  {
   "cell_type": "code",
   "execution_count": 55,
   "metadata": {},
   "outputs": [
    {
     "data": {
      "text/plain": [
       "(10, 10000, 10)"
      ]
     },
     "execution_count": 55,
     "metadata": {},
     "output_type": "execute_result"
    }
   ],
   "source": [
    "all_preds.shape"
   ]
  },
  {
   "cell_type": "code",
   "execution_count": 56,
   "metadata": {},
   "outputs": [
    {
     "data": {
      "text/plain": [
       "(10000, 10)"
      ]
     },
     "execution_count": 56,
     "metadata": {},
     "output_type": "execute_result"
    }
   ],
   "source": [
    "avg_preds = all_preds.mean(axis=0)\n",
    "avg_preds.shape"
   ]
  },
  {
   "cell_type": "code",
   "execution_count": 57,
   "metadata": {},
   "outputs": [
    {
     "data": {
      "text/plain": [
       "0.2200007438659668"
      ]
     },
     "execution_count": 57,
     "metadata": {},
     "output_type": "execute_result"
    }
   ],
   "source": [
    "# display error rate in percent\n",
    "(1 - keras.metrics.categorical_accuracy(y_test, avg_preds).eval().mean()) * 100"
   ]
  },
  {
   "cell_type": "markdown",
   "metadata": {},
   "source": [
    "### Results of ensemble of 10 CNNs\n",
    "Activation \"relu\":\n",
    "1. 0.26999711990356445\n",
    "2. 0.26000142097473145 trained for one additional epoch\n",
    "\n",
    "Activation \"leaky relu\":\n",
    "1. 0.34000277519226074\n",
    "2. 0.23999810218811035 + two epochs with lr 0.0001 (saved weights as _24)\n",
    "3. 0.23000240325927734 + two epochs with lr 0.0001 (saved weights as _23)\n",
    "4. 0.2200007438659668 + trained model 9 (out of 10) 6 additional epochs with lr 0.0001 (saved weights as _22)\n",
    "5. 0.2200007438659668 + trained model 3 (out of 10) 4 additional epochs with lr 0.0001\n",
    "5. 0.2200007438659668 + trained model 1 (out of 10) 2 additional epochs with lr 0.0001"
   ]
  },
  {
   "cell_type": "markdown",
   "metadata": {},
   "source": [
    "# Show test error rate of every model separately"
   ]
  },
  {
   "cell_type": "markdown",
   "metadata": {},
   "source": [
    "Results for .22 average error rate model weights (Model # / error rate)\n",
    "1. 0.370001792908\n",
    "2. 0.330001115799\n",
    "3. 0.429999828339\n",
    "4. 0.349998474121\n",
    "5. 0.370001792908\n",
    "6. 0.340002775192\n",
    "7. 0.370001792908\n",
    "8. 0.360000133514\n",
    "9. 0.29000043869\n",
    "10. 0.360000133514"
   ]
  },
  {
   "cell_type": "code",
   "execution_count": 58,
   "metadata": {
    "scrolled": false
   },
   "outputs": [
    {
     "name": "stdout",
     "output_type": "stream",
     "text": [
      "1 0.370001792908\n",
      "2 0.330001115799\n",
      "3 0.429999828339\n",
      "4 0.349998474121\n",
      "5 0.370001792908\n",
      "6 0.340002775192\n",
      "7 0.370001792908\n",
      "8 0.360000133514\n",
      "9 0.29000043869\n",
      "10 0.360000133514\n"
     ]
    }
   ],
   "source": [
    "for i, m in enumerate(models):\n",
    "    pred = np.array(m.predict(x_test, batch_size=eval_batch_size))\n",
    "    print(i+1, (1 - keras.metrics.categorical_accuracy(y_test, pred).eval().mean()) * 100)"
   ]
  },
  {
   "cell_type": "code",
   "execution_count": 116,
   "metadata": {
    "collapsed": true
   },
   "outputs": [],
   "source": [
    "# show accuracy of single model\n",
    "\n",
    "# which model number to check\n",
    "i = 8"
   ]
  },
  {
   "cell_type": "code",
   "execution_count": 117,
   "metadata": {},
   "outputs": [
    {
     "name": "stdout",
     "output_type": "stream",
     "text": [
      "8 0.29000043869\n"
     ]
    }
   ],
   "source": [
    "# calculate accuracy of a single model\n",
    "pred = np.array(models[i].predict(x_test, batch_size=eval_batch_size))\n",
    "print(i, (1 - keras.metrics.categorical_accuracy(y_test, pred).eval().mean()) * 100)"
   ]
  },
  {
   "cell_type": "markdown",
   "metadata": {},
   "source": [
    "# Plot Training History"
   ]
  },
  {
   "cell_type": "markdown",
   "metadata": {},
   "source": [
    "Here we create and train a single model from scratch to get a plot of the training history."
   ]
  },
  {
   "cell_type": "code",
   "execution_count": 41,
   "metadata": {
    "collapsed": true
   },
   "outputs": [],
   "source": [
    "# create and train a single model\n",
    "m = create_model()\n",
    "history = m.fit_generator(batches, steps_per_epoch=steps_per_epoch, epochs=10, verbose=0,\n",
    "                         validation_data=test_batches, validation_steps=validation_steps)"
   ]
  },
  {
   "cell_type": "markdown",
   "metadata": {},
   "source": [
    "Jason Brownlee's script to plot model training history:\n",
    "https://machinelearningmastery.com/display-deep-learning-model-training-history-in-keras/"
   ]
  },
  {
   "cell_type": "code",
   "execution_count": 54,
   "metadata": {},
   "outputs": [
    {
     "name": "stdout",
     "output_type": "stream",
     "text": [
      "dict_keys(['val_loss', 'val_acc', 'loss', 'acc'])\n"
     ]
    },
    {
     "data": {
      "image/png": "[encoded data removed]",
      "text/plain": [
       "<matplotlib.figure.Figure at 0x7fcc4c4b05f8>"
      ]
     },
     "metadata": {},
     "output_type": "display_data"
    },
    {
     "data": {
      "image/png": "[encoded data removed]",
      "text/plain": [
       "<matplotlib.figure.Figure at 0x7fcc4c4ddf28>"
      ]
     },
     "metadata": {},
     "output_type": "display_data"
    }
   ],
   "source": [
    "import matplotlib.pyplot as plt\n",
    "\n",
    "axes = plt.gca()\n",
    "#axes.set_xlim([1,5])\n",
    "#axes.set_ylim([0.2,1.0])\n",
    "\n",
    "# list all data in history\n",
    "print(history.history.keys())\n",
    "# summarize history for accuracy\n",
    "plt.plot(history.history['acc'])\n",
    "plt.plot(history.history['val_acc'])\n",
    "plt.title('model accuracy')\n",
    "plt.ylabel('accuracy')\n",
    "plt.xlabel('epoch')\n",
    "plt.legend(['train', 'test'], loc='upper left')\n",
    "plt.show()\n",
    "\n",
    "# summarize history for loss\n",
    "plt.plot(history.history['loss'])\n",
    "plt.plot(history.history['val_loss'])\n",
    "plt.title('model loss')\n",
    "plt.ylabel('loss')\n",
    "plt.xlabel('epoch')\n",
    "plt.legend(['train', 'test'], loc='upper left')\n",
    "plt.show()"
   ]
  },
  {
   "cell_type": "markdown",
   "metadata": {},
   "source": [
    "# Try evaluation only with best performing models\n",
    "Ensemble with models 0,4,5,7,8,9 gives a test error rate of 0.21%. State of the art."
   ]
  },
  {
   "cell_type": "code",
   "execution_count": 70,
   "metadata": {
    "collapsed": true
   },
   "outputs": [],
   "source": [
    "best_model_numbers = [0,4,5,7,8,9]"
   ]
  },
  {
   "cell_type": "code",
   "execution_count": 71,
   "metadata": {
    "collapsed": true
   },
   "outputs": [],
   "source": [
    "best_models = []\n",
    "\n",
    "for i in best_model_numbers:\n",
    "    best_models.append(models[i])"
   ]
  },
  {
   "cell_type": "code",
   "execution_count": 72,
   "metadata": {},
   "outputs": [
    {
     "name": "stdout",
     "output_type": "stream",
     "text": [
      "10000/10000 [==============================] - 0s     \n",
      " 9728/10000 [============================>.] - ETA: 0s"
     ]
    }
   ],
   "source": [
    "# evaluate every model\n",
    "evals = np.array([m.evaluate(x_test,y_test, batch_size=eval_batch_size) for m in best_models])"
   ]
  },
  {
   "cell_type": "code",
   "execution_count": 73,
   "metadata": {},
   "outputs": [
    {
     "data": {
      "text/plain": [
       "array([ 0.010873  ,  0.99651667])"
      ]
     },
     "execution_count": 73,
     "metadata": {},
     "output_type": "execute_result"
    }
   ],
   "source": [
    "# calculate mean from evaluations\n",
    "evals.mean(axis=0)"
   ]
  },
  {
   "cell_type": "code",
   "execution_count": 74,
   "metadata": {
    "collapsed": true
   },
   "outputs": [],
   "source": [
    "all_preds = np.stack([m.predict(x_test, batch_size=eval_batch_size) for m in best_models])"
   ]
  },
  {
   "cell_type": "code",
   "execution_count": 75,
   "metadata": {},
   "outputs": [
    {
     "data": {
      "text/plain": [
       "(6, 10000, 10)"
      ]
     },
     "execution_count": 75,
     "metadata": {},
     "output_type": "execute_result"
    }
   ],
   "source": [
    "all_preds.shape"
   ]
  },
  {
   "cell_type": "code",
   "execution_count": 76,
   "metadata": {},
   "outputs": [
    {
     "data": {
      "text/plain": [
       "(10000, 10)"
      ]
     },
     "execution_count": 76,
     "metadata": {},
     "output_type": "execute_result"
    }
   ],
   "source": [
    "avg_preds = all_preds.mean(axis=0)\n",
    "avg_preds.shape"
   ]
  },
  {
   "cell_type": "code",
   "execution_count": 77,
   "metadata": {
    "scrolled": true
   },
   "outputs": [
    {
     "data": {
      "text/plain": [
       "0.20999908447265625"
      ]
     },
     "execution_count": 77,
     "metadata": {},
     "output_type": "execute_result"
    }
   ],
   "source": [
    "# display error rate in percent\n",
    "(1 - keras.metrics.categorical_accuracy(y_test, avg_preds).eval().mean()) * 100"
   ]
  },
  {
   "cell_type": "markdown",
   "metadata": {},
   "source": [
    "# Train single model some more"
   ]
  },
  {
   "cell_type": "markdown",
   "metadata": {},
   "source": [
    "Select a single model, train for a few epochs, and check accuracy."
   ]
  },
  {
   "cell_type": "code",
   "execution_count": 59,
   "metadata": {
    "collapsed": true
   },
   "outputs": [],
   "source": [
    "# which model to train\n",
    "i = 8"
   ]
  },
  {
   "cell_type": "code",
   "execution_count": 60,
   "metadata": {
    "collapsed": true
   },
   "outputs": [],
   "source": [
    "# reload weights in case of overfitting\n",
    "models[i].load_weights(\"weights/model_0.26.pkl\")"
   ]
  },
  {
   "cell_type": "code",
   "execution_count": 77,
   "metadata": {
    "scrolled": true
   },
   "outputs": [
    {
     "name": "stdout",
     "output_type": "stream",
     "text": [
      "Epoch 1/1\n",
      "118/118 [==============================] - 11s - loss: 0.0176 - acc: 0.9944 - val_loss: 0.0215 - val_acc: 0.9932\n"
     ]
    }
   ],
   "source": [
    "models[i].optimizer.lr = 0.0001\n",
    "history = models[i].fit_generator(batches, steps_per_epoch=steps_per_epoch, epochs=1,\n",
    "                   validation_data=test_batches, validation_steps=validation_steps)"
   ]
  },
  {
   "cell_type": "code",
   "execution_count": 120,
   "metadata": {
    "scrolled": true
   },
   "outputs": [
    {
     "name": "stdout",
     "output_type": "stream",
     "text": [
      "8 0.260001420975\n"
     ]
    }
   ],
   "source": [
    "# calculate accuracy of a single model\n",
    "pred = np.array(models[i].predict(x_test, batch_size=eval_batch_size))\n",
    "print(i, (1 - keras.metrics.categorical_accuracy(y_test, pred).eval().mean()) * 100)"
   ]
  },
  {
   "cell_type": "code",
   "execution_count": null,
   "metadata": {
    "collapsed": true
   },
   "outputs": [],
   "source": [
    "models[i].save_weights(\"weights/weights_leaky_relu_model_0.2x\"+str(i)+'.pkl')"
   ]
  },
  {
   "cell_type": "markdown",
   "metadata": {},
   "source": [
    "# Visualize model"
   ]
  },
  {
   "cell_type": "code",
   "execution_count": 23,
   "metadata": {
    "scrolled": true
   },
   "outputs": [
    {
     "name": "stdout",
     "output_type": "stream",
     "text": [
      "_________________________________________________________________\n",
      "Layer (type)                 Output Shape              Param #   \n",
      "=================================================================\n",
      "lambda_1 (Lambda)            (None, 1, 28, 28)         0         \n",
      "_________________________________________________________________\n",
      "conv2d_1 (Conv2D)            (None, 32, 26, 26)        320       \n",
      "_________________________________________________________________\n",
      "leaky_re_lu_1 (LeakyReLU)    (None, 32, 26, 26)        0         \n",
      "_________________________________________________________________\n",
      "batch_normalization_1 (Batch (None, 32, 26, 26)        128       \n",
      "_________________________________________________________________\n",
      "conv2d_2 (Conv2D)            (None, 32, 24, 24)        9248      \n",
      "_________________________________________________________________\n",
      "leaky_re_lu_2 (LeakyReLU)    (None, 32, 24, 24)        0         \n",
      "_________________________________________________________________\n",
      "max_pooling2d_1 (MaxPooling2 (None, 32, 12, 12)        0         \n",
      "_________________________________________________________________\n",
      "batch_normalization_2 (Batch (None, 32, 12, 12)        128       \n",
      "_________________________________________________________________\n",
      "conv2d_3 (Conv2D)            (None, 64, 10, 10)        18496     \n",
      "_________________________________________________________________\n",
      "leaky_re_lu_3 (LeakyReLU)    (None, 64, 10, 10)        0         \n",
      "_________________________________________________________________\n",
      "batch_normalization_3 (Batch (None, 64, 10, 10)        256       \n",
      "_________________________________________________________________\n",
      "conv2d_4 (Conv2D)            (None, 64, 8, 8)          36928     \n",
      "_________________________________________________________________\n",
      "leaky_re_lu_4 (LeakyReLU)    (None, 64, 8, 8)          0         \n",
      "_________________________________________________________________\n",
      "max_pooling2d_2 (MaxPooling2 (None, 64, 4, 4)          0         \n",
      "_________________________________________________________________\n",
      "flatten_1 (Flatten)          (None, 1024)              0         \n",
      "_________________________________________________________________\n",
      "batch_normalization_4 (Batch (None, 1024)              4096      \n",
      "_________________________________________________________________\n",
      "dense_1 (Dense)              (None, 512)               524800    \n",
      "_________________________________________________________________\n",
      "leaky_re_lu_5 (LeakyReLU)    (None, 512)               0         \n",
      "_________________________________________________________________\n",
      "batch_normalization_5 (Batch (None, 512)               2048      \n",
      "_________________________________________________________________\n",
      "dropout_1 (Dropout)          (None, 512)               0         \n",
      "_________________________________________________________________\n",
      "dense_2 (Dense)              (None, 10)                5130      \n",
      "=================================================================\n",
      "Total params: 601,578\n",
      "Trainable params: 598,250\n",
      "Non-trainable params: 3,328\n",
      "_________________________________________________________________\n"
     ]
    }
   ],
   "source": [
    "models[0].summary()"
   ]
  },
  {
   "cell_type": "code",
   "execution_count": 24,
   "metadata": {
    "scrolled": true
   },
   "outputs": [
    {
     "data": {
      "image/svg+xml": [
       "<svg height=\"1578pt\" viewBox=\"0.00 0.00 268.00 1578.00\" width=\"268pt\" xmlns=\"http://www.w3.org/2000/svg\" xmlns:xlink=\"http://www.w3.org/1999/xlink\">\n",
       "<g class=\"graph\" id=\"graph0\" transform=\"scale(1 1) rotate(0) translate(4 1574)\">\n",
       "<title>G</title>\n",
       "<polygon fill=\"white\" points=\"-4,4 -4,-1574 264,-1574 264,4 -4,4\" stroke=\"none\"/>\n",
       "<!-- 140041003808696 -->\n",
       "<g class=\"node\" id=\"node1\"><title>140041003808696</title>\n",
       "<polygon fill=\"none\" points=\"43.5,-1533.5 43.5,-1569.5 216.5,-1569.5 216.5,-1533.5 43.5,-1533.5\" stroke=\"black\"/>\n",
       "<text font-family=\"Times,serif\" font-size=\"14.00\" text-anchor=\"middle\" x=\"130\" y=\"-1547.8\">lambda_1_input: InputLayer</text>\n",
       "</g>\n",
       "<!-- 140041005806088 -->\n",
       "<g class=\"node\" id=\"node2\"><title>140041005806088</title>\n",
       "<polygon fill=\"none\" points=\"68.5,-1460.5 68.5,-1496.5 191.5,-1496.5 191.5,-1460.5 68.5,-1460.5\" stroke=\"black\"/>\n",
       "<text font-family=\"Times,serif\" font-size=\"14.00\" text-anchor=\"middle\" x=\"130\" y=\"-1474.8\">lambda_1: Lambda</text>\n",
       "</g>\n",
       "<!-- 140041003808696&#45;&gt;140041005806088 -->\n",
       "<g class=\"edge\" id=\"edge1\"><title>140041003808696-&gt;140041005806088</title>\n",
       "<path d=\"M130,-1533.31C130,-1525.29 130,-1515.55 130,-1506.57\" fill=\"none\" stroke=\"black\"/>\n",
       "<polygon fill=\"black\" points=\"133.5,-1506.53 130,-1496.53 126.5,-1506.53 133.5,-1506.53\" stroke=\"black\"/>\n",
       "</g>\n",
       "<!-- 140041002078728 -->\n",
       "<g class=\"node\" id=\"node3\"><title>140041002078728</title>\n",
       "<polygon fill=\"none\" points=\"68.5,-1387.5 68.5,-1423.5 191.5,-1423.5 191.5,-1387.5 68.5,-1387.5\" stroke=\"black\"/>\n",
       "<text font-family=\"Times,serif\" font-size=\"14.00\" text-anchor=\"middle\" x=\"130\" y=\"-1401.8\">conv2d_1: Conv2D</text>\n",
       "</g>\n",
       "<!-- 140041005806088&#45;&gt;140041002078728 -->\n",
       "<g class=\"edge\" id=\"edge2\"><title>140041005806088-&gt;140041002078728</title>\n",
       "<path d=\"M130,-1460.31C130,-1452.29 130,-1442.55 130,-1433.57\" fill=\"none\" stroke=\"black\"/>\n",
       "<polygon fill=\"black\" points=\"133.5,-1433.53 130,-1423.53 126.5,-1433.53 133.5,-1433.53\" stroke=\"black\"/>\n",
       "</g>\n",
       "<!-- 140041005805808 -->\n",
       "<g class=\"node\" id=\"node4\"><title>140041005805808</title>\n",
       "<polygon fill=\"none\" points=\"46,-1314.5 46,-1350.5 214,-1350.5 214,-1314.5 46,-1314.5\" stroke=\"black\"/>\n",
       "<text font-family=\"Times,serif\" font-size=\"14.00\" text-anchor=\"middle\" x=\"130\" y=\"-1328.8\">leaky_re_lu_1: LeakyReLU</text>\n",
       "</g>\n",
       "<!-- 140041002078728&#45;&gt;140041005805808 -->\n",
       "<g class=\"edge\" id=\"edge3\"><title>140041002078728-&gt;140041005805808</title>\n",
       "<path d=\"M130,-1387.31C130,-1379.29 130,-1369.55 130,-1360.57\" fill=\"none\" stroke=\"black\"/>\n",
       "<polygon fill=\"black\" points=\"133.5,-1360.53 130,-1350.53 126.5,-1360.53 133.5,-1360.53\" stroke=\"black\"/>\n",
       "</g>\n",
       "<!-- 140041002525640 -->\n",
       "<g class=\"node\" id=\"node5\"><title>140041002525640</title>\n",
       "<polygon fill=\"none\" points=\"0,-1241.5 0,-1277.5 260,-1277.5 260,-1241.5 0,-1241.5\" stroke=\"black\"/>\n",
       "<text font-family=\"Times,serif\" font-size=\"14.00\" text-anchor=\"middle\" x=\"130\" y=\"-1255.8\">batch_normalization_1: BatchNormalization</text>\n",
       "</g>\n",
       "<!-- 140041005805808&#45;&gt;140041002525640 -->\n",
       "<g class=\"edge\" id=\"edge4\"><title>140041005805808-&gt;140041002525640</title>\n",
       "<path d=\"M130,-1314.31C130,-1306.29 130,-1296.55 130,-1287.57\" fill=\"none\" stroke=\"black\"/>\n",
       "<polygon fill=\"black\" points=\"133.5,-1287.53 130,-1277.53 126.5,-1287.53 133.5,-1287.53\" stroke=\"black\"/>\n",
       "</g>\n",
       "<!-- 140041002525584 -->\n",
       "<g class=\"node\" id=\"node6\"><title>140041002525584</title>\n",
       "<polygon fill=\"none\" points=\"68.5,-1168.5 68.5,-1204.5 191.5,-1204.5 191.5,-1168.5 68.5,-1168.5\" stroke=\"black\"/>\n",
       "<text font-family=\"Times,serif\" font-size=\"14.00\" text-anchor=\"middle\" x=\"130\" y=\"-1182.8\">conv2d_2: Conv2D</text>\n",
       "</g>\n",
       "<!-- 140041002525640&#45;&gt;140041002525584 -->\n",
       "<g class=\"edge\" id=\"edge5\"><title>140041002525640-&gt;140041002525584</title>\n",
       "<path d=\"M130,-1241.31C130,-1233.29 130,-1223.55 130,-1214.57\" fill=\"none\" stroke=\"black\"/>\n",
       "<polygon fill=\"black\" points=\"133.5,-1214.53 130,-1204.53 126.5,-1214.53 133.5,-1214.53\" stroke=\"black\"/>\n",
       "</g>\n",
       "<!-- 140041005468584 -->\n",
       "<g class=\"node\" id=\"node7\"><title>140041005468584</title>\n",
       "<polygon fill=\"none\" points=\"46,-1095.5 46,-1131.5 214,-1131.5 214,-1095.5 46,-1095.5\" stroke=\"black\"/>\n",
       "<text font-family=\"Times,serif\" font-size=\"14.00\" text-anchor=\"middle\" x=\"130\" y=\"-1109.8\">leaky_re_lu_2: LeakyReLU</text>\n",
       "</g>\n",
       "<!-- 140041002525584&#45;&gt;140041005468584 -->\n",
       "<g class=\"edge\" id=\"edge6\"><title>140041002525584-&gt;140041005468584</title>\n",
       "<path d=\"M130,-1168.31C130,-1160.29 130,-1150.55 130,-1141.57\" fill=\"none\" stroke=\"black\"/>\n",
       "<polygon fill=\"black\" points=\"133.5,-1141.53 130,-1131.53 126.5,-1141.53 133.5,-1141.53\" stroke=\"black\"/>\n",
       "</g>\n",
       "<!-- 140041005469032 -->\n",
       "<g class=\"node\" id=\"node8\"><title>140041005469032</title>\n",
       "<polygon fill=\"none\" points=\"26.5,-1022.5 26.5,-1058.5 233.5,-1058.5 233.5,-1022.5 26.5,-1022.5\" stroke=\"black\"/>\n",
       "<text font-family=\"Times,serif\" font-size=\"14.00\" text-anchor=\"middle\" x=\"130\" y=\"-1036.8\">max_pooling2d_1: MaxPooling2D</text>\n",
       "</g>\n",
       "<!-- 140041005468584&#45;&gt;140041005469032 -->\n",
       "<g class=\"edge\" id=\"edge7\"><title>140041005468584-&gt;140041005469032</title>\n",
       "<path d=\"M130,-1095.31C130,-1087.29 130,-1077.55 130,-1068.57\" fill=\"none\" stroke=\"black\"/>\n",
       "<polygon fill=\"black\" points=\"133.5,-1068.53 130,-1058.53 126.5,-1068.53 133.5,-1068.53\" stroke=\"black\"/>\n",
       "</g>\n",
       "<!-- 140041005466064 -->\n",
       "<g class=\"node\" id=\"node9\"><title>140041005466064</title>\n",
       "<polygon fill=\"none\" points=\"0,-949.5 0,-985.5 260,-985.5 260,-949.5 0,-949.5\" stroke=\"black\"/>\n",
       "<text font-family=\"Times,serif\" font-size=\"14.00\" text-anchor=\"middle\" x=\"130\" y=\"-963.8\">batch_normalization_2: BatchNormalization</text>\n",
       "</g>\n",
       "<!-- 140041005469032&#45;&gt;140041005466064 -->\n",
       "<g class=\"edge\" id=\"edge8\"><title>140041005469032-&gt;140041005466064</title>\n",
       "<path d=\"M130,-1022.31C130,-1014.29 130,-1004.55 130,-995.569\" fill=\"none\" stroke=\"black\"/>\n",
       "<polygon fill=\"black\" points=\"133.5,-995.529 130,-985.529 126.5,-995.529 133.5,-995.529\" stroke=\"black\"/>\n",
       "</g>\n",
       "<!-- 140041005469368 -->\n",
       "<g class=\"node\" id=\"node10\"><title>140041005469368</title>\n",
       "<polygon fill=\"none\" points=\"68.5,-876.5 68.5,-912.5 191.5,-912.5 191.5,-876.5 68.5,-876.5\" stroke=\"black\"/>\n",
       "<text font-family=\"Times,serif\" font-size=\"14.00\" text-anchor=\"middle\" x=\"130\" y=\"-890.8\">conv2d_3: Conv2D</text>\n",
       "</g>\n",
       "<!-- 140041005466064&#45;&gt;140041005469368 -->\n",
       "<g class=\"edge\" id=\"edge9\"><title>140041005466064-&gt;140041005469368</title>\n",
       "<path d=\"M130,-949.313C130,-941.289 130,-931.547 130,-922.569\" fill=\"none\" stroke=\"black\"/>\n",
       "<polygon fill=\"black\" points=\"133.5,-922.529 130,-912.529 126.5,-922.529 133.5,-922.529\" stroke=\"black\"/>\n",
       "</g>\n",
       "<!-- 140041005466232 -->\n",
       "<g class=\"node\" id=\"node11\"><title>140041005466232</title>\n",
       "<polygon fill=\"none\" points=\"46,-803.5 46,-839.5 214,-839.5 214,-803.5 46,-803.5\" stroke=\"black\"/>\n",
       "<text font-family=\"Times,serif\" font-size=\"14.00\" text-anchor=\"middle\" x=\"130\" y=\"-817.8\">leaky_re_lu_3: LeakyReLU</text>\n",
       "</g>\n",
       "<!-- 140041005469368&#45;&gt;140041005466232 -->\n",
       "<g class=\"edge\" id=\"edge10\"><title>140041005469368-&gt;140041005466232</title>\n",
       "<path d=\"M130,-876.313C130,-868.289 130,-858.547 130,-849.569\" fill=\"none\" stroke=\"black\"/>\n",
       "<polygon fill=\"black\" points=\"133.5,-849.529 130,-839.529 126.5,-849.529 133.5,-849.529\" stroke=\"black\"/>\n",
       "</g>\n",
       "<!-- 140041005266368 -->\n",
       "<g class=\"node\" id=\"node12\"><title>140041005266368</title>\n",
       "<polygon fill=\"none\" points=\"0,-730.5 0,-766.5 260,-766.5 260,-730.5 0,-730.5\" stroke=\"black\"/>\n",
       "<text font-family=\"Times,serif\" font-size=\"14.00\" text-anchor=\"middle\" x=\"130\" y=\"-744.8\">batch_normalization_3: BatchNormalization</text>\n",
       "</g>\n",
       "<!-- 140041005466232&#45;&gt;140041005266368 -->\n",
       "<g class=\"edge\" id=\"edge11\"><title>140041005466232-&gt;140041005266368</title>\n",
       "<path d=\"M130,-803.313C130,-795.289 130,-785.547 130,-776.569\" fill=\"none\" stroke=\"black\"/>\n",
       "<polygon fill=\"black\" points=\"133.5,-776.529 130,-766.529 126.5,-776.529 133.5,-776.529\" stroke=\"black\"/>\n",
       "</g>\n",
       "<!-- 140041005268776 -->\n",
       "<g class=\"node\" id=\"node13\"><title>140041005268776</title>\n",
       "<polygon fill=\"none\" points=\"68.5,-657.5 68.5,-693.5 191.5,-693.5 191.5,-657.5 68.5,-657.5\" stroke=\"black\"/>\n",
       "<text font-family=\"Times,serif\" font-size=\"14.00\" text-anchor=\"middle\" x=\"130\" y=\"-671.8\">conv2d_4: Conv2D</text>\n",
       "</g>\n",
       "<!-- 140041005266368&#45;&gt;140041005268776 -->\n",
       "<g class=\"edge\" id=\"edge12\"><title>140041005266368-&gt;140041005268776</title>\n",
       "<path d=\"M130,-730.313C130,-722.289 130,-712.547 130,-703.569\" fill=\"none\" stroke=\"black\"/>\n",
       "<polygon fill=\"black\" points=\"133.5,-703.529 130,-693.529 126.5,-703.529 133.5,-703.529\" stroke=\"black\"/>\n",
       "</g>\n",
       "<!-- 140041003973824 -->\n",
       "<g class=\"node\" id=\"node14\"><title>140041003973824</title>\n",
       "<polygon fill=\"none\" points=\"46,-584.5 46,-620.5 214,-620.5 214,-584.5 46,-584.5\" stroke=\"black\"/>\n",
       "<text font-family=\"Times,serif\" font-size=\"14.00\" text-anchor=\"middle\" x=\"130\" y=\"-598.8\">leaky_re_lu_4: LeakyReLU</text>\n",
       "</g>\n",
       "<!-- 140041005268776&#45;&gt;140041003973824 -->\n",
       "<g class=\"edge\" id=\"edge13\"><title>140041005268776-&gt;140041003973824</title>\n",
       "<path d=\"M130,-657.313C130,-649.289 130,-639.547 130,-630.569\" fill=\"none\" stroke=\"black\"/>\n",
       "<polygon fill=\"black\" points=\"133.5,-630.529 130,-620.529 126.5,-630.529 133.5,-630.529\" stroke=\"black\"/>\n",
       "</g>\n",
       "<!-- 140041002645488 -->\n",
       "<g class=\"node\" id=\"node15\"><title>140041002645488</title>\n",
       "<polygon fill=\"none\" points=\"26.5,-511.5 26.5,-547.5 233.5,-547.5 233.5,-511.5 26.5,-511.5\" stroke=\"black\"/>\n",
       "<text font-family=\"Times,serif\" font-size=\"14.00\" text-anchor=\"middle\" x=\"130\" y=\"-525.8\">max_pooling2d_2: MaxPooling2D</text>\n",
       "</g>\n",
       "<!-- 140041003973824&#45;&gt;140041002645488 -->\n",
       "<g class=\"edge\" id=\"edge14\"><title>140041003973824-&gt;140041002645488</title>\n",
       "<path d=\"M130,-584.313C130,-576.289 130,-566.547 130,-557.569\" fill=\"none\" stroke=\"black\"/>\n",
       "<polygon fill=\"black\" points=\"133.5,-557.529 130,-547.529 126.5,-557.529 133.5,-557.529\" stroke=\"black\"/>\n",
       "</g>\n",
       "<!-- 140041002159688 -->\n",
       "<g class=\"node\" id=\"node16\"><title>140041002159688</title>\n",
       "<polygon fill=\"none\" points=\"75,-438.5 75,-474.5 185,-474.5 185,-438.5 75,-438.5\" stroke=\"black\"/>\n",
       "<text font-family=\"Times,serif\" font-size=\"14.00\" text-anchor=\"middle\" x=\"130\" y=\"-452.8\">flatten_1: Flatten</text>\n",
       "</g>\n",
       "<!-- 140041002645488&#45;&gt;140041002159688 -->\n",
       "<g class=\"edge\" id=\"edge15\"><title>140041002645488-&gt;140041002159688</title>\n",
       "<path d=\"M130,-511.313C130,-503.289 130,-493.547 130,-484.569\" fill=\"none\" stroke=\"black\"/>\n",
       "<polygon fill=\"black\" points=\"133.5,-484.529 130,-474.529 126.5,-484.529 133.5,-484.529\" stroke=\"black\"/>\n",
       "</g>\n",
       "<!-- 140041002160080 -->\n",
       "<g class=\"node\" id=\"node17\"><title>140041002160080</title>\n",
       "<polygon fill=\"none\" points=\"0,-365.5 0,-401.5 260,-401.5 260,-365.5 0,-365.5\" stroke=\"black\"/>\n",
       "<text font-family=\"Times,serif\" font-size=\"14.00\" text-anchor=\"middle\" x=\"130\" y=\"-379.8\">batch_normalization_4: BatchNormalization</text>\n",
       "</g>\n",
       "<!-- 140041002159688&#45;&gt;140041002160080 -->\n",
       "<g class=\"edge\" id=\"edge16\"><title>140041002159688-&gt;140041002160080</title>\n",
       "<path d=\"M130,-438.313C130,-430.289 130,-420.547 130,-411.569\" fill=\"none\" stroke=\"black\"/>\n",
       "<polygon fill=\"black\" points=\"133.5,-411.529 130,-401.529 126.5,-411.529 133.5,-411.529\" stroke=\"black\"/>\n",
       "</g>\n",
       "<!-- 140041004048736 -->\n",
       "<g class=\"node\" id=\"node18\"><title>140041004048736</title>\n",
       "<polygon fill=\"none\" points=\"79,-292.5 79,-328.5 181,-328.5 181,-292.5 79,-292.5\" stroke=\"black\"/>\n",
       "<text font-family=\"Times,serif\" font-size=\"14.00\" text-anchor=\"middle\" x=\"130\" y=\"-306.8\">dense_1: Dense</text>\n",
       "</g>\n",
       "<!-- 140041002160080&#45;&gt;140041004048736 -->\n",
       "<g class=\"edge\" id=\"edge17\"><title>140041002160080-&gt;140041004048736</title>\n",
       "<path d=\"M130,-365.313C130,-357.289 130,-347.547 130,-338.569\" fill=\"none\" stroke=\"black\"/>\n",
       "<polygon fill=\"black\" points=\"133.5,-338.529 130,-328.529 126.5,-338.529 133.5,-338.529\" stroke=\"black\"/>\n",
       "</g>\n",
       "<!-- 140041343449016 -->\n",
       "<g class=\"node\" id=\"node19\"><title>140041343449016</title>\n",
       "<polygon fill=\"none\" points=\"46,-219.5 46,-255.5 214,-255.5 214,-219.5 46,-219.5\" stroke=\"black\"/>\n",
       "<text font-family=\"Times,serif\" font-size=\"14.00\" text-anchor=\"middle\" x=\"130\" y=\"-233.8\">leaky_re_lu_5: LeakyReLU</text>\n",
       "</g>\n",
       "<!-- 140041004048736&#45;&gt;140041343449016 -->\n",
       "<g class=\"edge\" id=\"edge18\"><title>140041004048736-&gt;140041343449016</title>\n",
       "<path d=\"M130,-292.313C130,-284.289 130,-274.547 130,-265.569\" fill=\"none\" stroke=\"black\"/>\n",
       "<polygon fill=\"black\" points=\"133.5,-265.529 130,-255.529 126.5,-265.529 133.5,-265.529\" stroke=\"black\"/>\n",
       "</g>\n",
       "<!-- 140041003319368 -->\n",
       "<g class=\"node\" id=\"node20\"><title>140041003319368</title>\n",
       "<polygon fill=\"none\" points=\"0,-146.5 0,-182.5 260,-182.5 260,-146.5 0,-146.5\" stroke=\"black\"/>\n",
       "<text font-family=\"Times,serif\" font-size=\"14.00\" text-anchor=\"middle\" x=\"130\" y=\"-160.8\">batch_normalization_5: BatchNormalization</text>\n",
       "</g>\n",
       "<!-- 140041343449016&#45;&gt;140041003319368 -->\n",
       "<g class=\"edge\" id=\"edge19\"><title>140041343449016-&gt;140041003319368</title>\n",
       "<path d=\"M130,-219.313C130,-211.289 130,-201.547 130,-192.569\" fill=\"none\" stroke=\"black\"/>\n",
       "<polygon fill=\"black\" points=\"133.5,-192.529 130,-182.529 126.5,-192.529 133.5,-192.529\" stroke=\"black\"/>\n",
       "</g>\n",
       "<!-- 140041003320376 -->\n",
       "<g class=\"node\" id=\"node21\"><title>140041003320376</title>\n",
       "<polygon fill=\"none\" points=\"67.5,-73.5 67.5,-109.5 192.5,-109.5 192.5,-73.5 67.5,-73.5\" stroke=\"black\"/>\n",
       "<text font-family=\"Times,serif\" font-size=\"14.00\" text-anchor=\"middle\" x=\"130\" y=\"-87.8\">dropout_1: Dropout</text>\n",
       "</g>\n",
       "<!-- 140041003319368&#45;&gt;140041003320376 -->\n",
       "<g class=\"edge\" id=\"edge20\"><title>140041003319368-&gt;140041003320376</title>\n",
       "<path d=\"M130,-146.313C130,-138.289 130,-128.547 130,-119.569\" fill=\"none\" stroke=\"black\"/>\n",
       "<polygon fill=\"black\" points=\"133.5,-119.529 130,-109.529 126.5,-119.529 133.5,-119.529\" stroke=\"black\"/>\n",
       "</g>\n",
       "<!-- 140041003270096 -->\n",
       "<g class=\"node\" id=\"node22\"><title>140041003270096</title>\n",
       "<polygon fill=\"none\" points=\"79,-0.5 79,-36.5 181,-36.5 181,-0.5 79,-0.5\" stroke=\"black\"/>\n",
       "<text font-family=\"Times,serif\" font-size=\"14.00\" text-anchor=\"middle\" x=\"130\" y=\"-14.8\">dense_2: Dense</text>\n",
       "</g>\n",
       "<!-- 140041003320376&#45;&gt;140041003270096 -->\n",
       "<g class=\"edge\" id=\"edge21\"><title>140041003320376-&gt;140041003270096</title>\n",
       "<path d=\"M130,-73.3129C130,-65.2895 130,-55.5475 130,-46.5691\" fill=\"none\" stroke=\"black\"/>\n",
       "<polygon fill=\"black\" points=\"133.5,-46.5288 130,-36.5288 126.5,-46.5289 133.5,-46.5288\" stroke=\"black\"/>\n",
       "</g>\n",
       "</g>\n",
       "</svg>"
      ],
      "text/plain": [
       "<IPython.core.display.SVG object>"
      ]
     },
     "execution_count": 24,
     "metadata": {},
     "output_type": "execute_result"
    }
   ],
   "source": [
    "# fix for python3\n",
    "import pydotplus as pydot\n",
    "\n",
    "from keras.utils import plot_model\n",
    "plot_model(models[0], to_file='model.png')\n",
    "\n",
    "# visualize our model\n",
    "from IPython.display import SVG\n",
    "from keras.utils.vis_utils import model_to_dot\n",
    "SVG(model_to_dot(models[0]).create(prog='dot', format='svg'))"
   ]
  },
  {
   "cell_type": "markdown",
   "metadata": {},
   "source": [
    "# Visualize predictions for best performing single model\n",
    "As well as looking at the overall metrics, it's also a good idea to look at examples of:\n",
    "1. A few correct labels at random\n",
    "2. A few incorrect labels at random"
   ]
  },
  {
   "cell_type": "code",
   "execution_count": 126,
   "metadata": {
    "collapsed": true
   },
   "outputs": [],
   "source": [
    "m = create_model()"
   ]
  },
  {
   "cell_type": "code",
   "execution_count": 127,
   "metadata": {
    "collapsed": true
   },
   "outputs": [],
   "source": [
    "# load saved weights\n",
    "m.load_weights(\"weights/model_0.26.pkl\")"
   ]
  },
  {
   "cell_type": "code",
   "execution_count": 128,
   "metadata": {},
   "outputs": [
    {
     "name": "stdout",
     "output_type": "stream",
     "text": [
      " 9728/10000 [============================>.] - ETA: 0s"
     ]
    }
   ],
   "source": [
    "# predict classes\n",
    "preds = m.predict_classes(x_test, batch_size=eval_batch_size)"
   ]
  },
  {
   "cell_type": "code",
   "execution_count": 129,
   "metadata": {
    "collapsed": true
   },
   "outputs": [],
   "source": [
    "correct = np.where(preds==test_labels)[0]\n",
    "incorrect = np.where(preds!=test_labels)[0]"
   ]
  },
  {
   "cell_type": "code",
   "execution_count": 130,
   "metadata": {},
   "outputs": [
    {
     "data": {
      "text/plain": [
       "(9974,)"
      ]
     },
     "execution_count": 130,
     "metadata": {},
     "output_type": "execute_result"
    }
   ],
   "source": [
    "correct.shape"
   ]
  },
  {
   "cell_type": "code",
   "execution_count": 131,
   "metadata": {},
   "outputs": [
    {
     "data": {
      "text/plain": [
       "(26,)"
      ]
     },
     "execution_count": 131,
     "metadata": {},
     "output_type": "execute_result"
    }
   ],
   "source": [
    "incorrect.shape"
   ]
  },
  {
   "cell_type": "code",
   "execution_count": 136,
   "metadata": {
    "collapsed": true
   },
   "outputs": [],
   "source": [
    "# number of images to view\n",
    "n_view = 30"
   ]
  },
  {
   "cell_type": "code",
   "execution_count": 137,
   "metadata": {
    "collapsed": true
   },
   "outputs": [],
   "source": [
    "from numpy.random import permutation\n",
    "\n",
    "# get a random selection of correctly predicted images\n",
    "idx = permutation(correct)[:n_view]\n",
    "idx_incorrect = permutation(incorrect)[:n_view]"
   ]
  },
  {
   "cell_type": "code",
   "execution_count": 138,
   "metadata": {
    "collapsed": true
   },
   "outputs": [],
   "source": [
    "preds_correct = preds[idx]\n",
    "preds_incorrect = preds[idx_incorrect]"
   ]
  },
  {
   "cell_type": "code",
   "execution_count": 139,
   "metadata": {
    "collapsed": true
   },
   "outputs": [],
   "source": [
    "imgs = x_test[idx]\n",
    "imgs_incorrect = x_test[idx_incorrect]"
   ]
  },
  {
   "cell_type": "code",
   "execution_count": 140,
   "metadata": {},
   "outputs": [
    {
     "data": {
      "text/plain": [
       "(30, 1, 28, 28)"
      ]
     },
     "execution_count": 140,
     "metadata": {},
     "output_type": "execute_result"
    }
   ],
   "source": [
    "imgs.shape"
   ]
  },
  {
   "cell_type": "markdown",
   "metadata": {},
   "source": [
    "### A few correct labels at random"
   ]
  },
  {
   "cell_type": "code",
   "execution_count": 141,
   "metadata": {},
   "outputs": [
    {
     "data": {
      "image/png": "[encoded data removed]",
      "text/plain": [
       "<matplotlib.figure.Figure at 0x7f5dc78402e8>"
      ]
     },
     "metadata": {},
     "output_type": "display_data"
    }
   ],
   "source": [
    "f = plt.figure(figsize=(12,6))\n",
    "\n",
    "for i in range(n_view):\n",
    "    sp = f.add_subplot(3, 10, i+1)\n",
    "    sp.axis('Off')\n",
    "    sp.set_title(preds_correct[i])\n",
    "    img = imgs[i].astype('float32')\n",
    "    plt.imshow(img[0], cmap='gray')"
   ]
  },
  {
   "cell_type": "code",
   "execution_count": 142,
   "metadata": {},
   "outputs": [
    {
     "data": {
      "text/plain": [
       "array([1, 1, 5, 7, 5, 7, 2, 2, 5, 4, 1, 0, 1, 4, 3, 7, 4, 6, 6, 1, 9, 6, 2,\n",
       "       6, 5, 7, 4, 7, 6, 3], dtype=uint8)"
      ]
     },
     "execution_count": 142,
     "metadata": {},
     "output_type": "execute_result"
    }
   ],
   "source": [
    "# ground truth labels\n",
    "test_labels[idx]"
   ]
  },
  {
   "cell_type": "markdown",
   "metadata": {},
   "source": [
    "### a few incorrect labels at random"
   ]
  },
  {
   "cell_type": "code",
   "execution_count": 143,
   "metadata": {},
   "outputs": [
    {
     "data": {
      "image/png": "[encoded data removed]",
      "text/plain": [
       "<matplotlib.figure.Figure at 0x7f5dba969828>"
      ]
     },
     "metadata": {},
     "output_type": "display_data"
    }
   ],
   "source": [
    "f = plt.figure(figsize=(12,6))\n",
    "\n",
    "for i in range(26): # we have only 26 incorrect predictions on the test data set\n",
    "    sp = f.add_subplot(3, 10, i+1)\n",
    "    sp.axis('Off')\n",
    "    sp.set_title(\"{} | {}\".format(preds_incorrect[i],test_labels[idx_incorrect][i]))\n",
    "    img = imgs_incorrect[i].astype('float32')\n",
    "    plt.imshow(img[0], cmap='gray')"
   ]
  },
  {
   "cell_type": "code",
   "execution_count": 144,
   "metadata": {},
   "outputs": [
    {
     "data": {
      "text/plain": [
       "array([5, 7, 4, 5, 9, 7, 6, 5, 9, 1, 5, 2, 6, 5, 6, 7, 8, 6, 2, 8, 4, 9, 3,\n",
       "       2, 6, 2], dtype=uint8)"
      ]
     },
     "execution_count": 144,
     "metadata": {},
     "output_type": "execute_result"
    }
   ],
   "source": [
    "# ground truth labels\n",
    "test_labels[idx_incorrect]"
   ]
  },
  {
   "cell_type": "markdown",
   "metadata": {},
   "source": [
    "# Print confusion matrix"
   ]
  },
  {
   "cell_type": "markdown",
   "metadata": {},
   "source": [
    "Plot unnormalized and normalized confusion matrices. Code adapted from \n",
    "http://scikit-learn.org/stable/auto_examples/model_selection/plot_confusion_matrix.html\n"
   ]
  },
  {
   "cell_type": "code",
   "execution_count": 145,
   "metadata": {
    "collapsed": true
   },
   "outputs": [],
   "source": [
    "def plot_confusion_matrix(cm, classes,\n",
    "                          normalize=False,\n",
    "                          title='Confusion matrix',\n",
    "                          cmap=plt.cm.Blues):\n",
    "    \"\"\"\n",
    "    This function prints and plots the confusion matrix.\n",
    "    Normalization can be applied by setting `normalize=True`.\n",
    "    \"\"\"\n",
    "    if normalize:\n",
    "        cm = cm.astype('float') / cm.sum(axis=1)[:, np.newaxis]\n",
    "        print(\"Normalized confusion matrix\")\n",
    "    else:\n",
    "        print('Confusion matrix, without normalization')\n",
    "\n",
    "    print(cm)\n",
    "\n",
    "    plt.imshow(cm, interpolation='nearest', cmap=cmap)\n",
    "    plt.title(title)\n",
    "    plt.colorbar()\n",
    "    tick_marks = np.arange(len(classes))\n",
    "    plt.xticks(tick_marks, classes, rotation=45)\n",
    "    plt.yticks(tick_marks, classes)\n",
    "\n",
    "    fmt = '.2f' if normalize else 'd'\n",
    "    thresh = cm.max() / 2.\n",
    "    for i, j in itertools.product(range(cm.shape[0]), range(cm.shape[1])):\n",
    "        plt.text(j, i, format(cm[i, j], fmt),\n",
    "                 horizontalalignment=\"center\",\n",
    "                 color=\"white\" if cm[i, j] > thresh else \"black\")\n",
    "\n",
    "    plt.tight_layout()\n",
    "    plt.ylabel('True label')\n",
    "    plt.xlabel('Predicted label')"
   ]
  },
  {
   "cell_type": "code",
   "execution_count": 146,
   "metadata": {
    "collapsed": true,
    "scrolled": true
   },
   "outputs": [],
   "source": [
    "# calculate confusion matrix\n",
    "from sklearn.metrics import confusion_matrix\n",
    "cnf_matrix = confusion_matrix(test_labels, preds)"
   ]
  },
  {
   "cell_type": "code",
   "execution_count": 147,
   "metadata": {},
   "outputs": [
    {
     "name": "stdout",
     "output_type": "stream",
     "text": [
      "Confusion matrix, without normalization\n",
      "[[ 980    0    0    0    0    0    0    0    0    0]\n",
      " [   0 1134    0    1    0    0    0    0    0    0]\n",
      " [   2    0 1028    0    0    0    0    2    0    0]\n",
      " [   0    0    1 1009    0    0    0    0    0    0]\n",
      " [   0    0    0    0  980    0    0    0    0    2]\n",
      " [   1    0    0    2    0  887    2    0    0    0]\n",
      " [   1    2    0    0    1    0  953    0    1    0]\n",
      " [   0    2    1    0    0    0    0 1025    0    0]\n",
      " [   0    0    1    1    0    0    0    0  972    0]\n",
      " [   0    0    0    0    3    0    0    0    0 1006]]\n",
      "Normalized confusion matrix\n",
      "[[  1.00e+00   0.00e+00   0.00e+00   0.00e+00   0.00e+00   0.00e+00\n",
      "    0.00e+00   0.00e+00   0.00e+00   0.00e+00]\n",
      " [  0.00e+00   9.99e-01   0.00e+00   8.81e-04   0.00e+00   0.00e+00\n",
      "    0.00e+00   0.00e+00   0.00e+00   0.00e+00]\n",
      " [  1.94e-03   0.00e+00   9.96e-01   0.00e+00   0.00e+00   0.00e+00\n",
      "    0.00e+00   1.94e-03   0.00e+00   0.00e+00]\n",
      " [  0.00e+00   0.00e+00   9.90e-04   9.99e-01   0.00e+00   0.00e+00\n",
      "    0.00e+00   0.00e+00   0.00e+00   0.00e+00]\n",
      " [  0.00e+00   0.00e+00   0.00e+00   0.00e+00   9.98e-01   0.00e+00\n",
      "    0.00e+00   0.00e+00   0.00e+00   2.04e-03]\n",
      " [  1.12e-03   0.00e+00   0.00e+00   2.24e-03   0.00e+00   9.94e-01\n",
      "    2.24e-03   0.00e+00   0.00e+00   0.00e+00]\n",
      " [  1.04e-03   2.09e-03   0.00e+00   0.00e+00   1.04e-03   0.00e+00\n",
      "    9.95e-01   0.00e+00   1.04e-03   0.00e+00]\n",
      " [  0.00e+00   1.95e-03   9.73e-04   0.00e+00   0.00e+00   0.00e+00\n",
      "    0.00e+00   9.97e-01   0.00e+00   0.00e+00]\n",
      " [  0.00e+00   0.00e+00   1.03e-03   1.03e-03   0.00e+00   0.00e+00\n",
      "    0.00e+00   0.00e+00   9.98e-01   0.00e+00]\n",
      " [  0.00e+00   0.00e+00   0.00e+00   0.00e+00   2.97e-03   0.00e+00\n",
      "    0.00e+00   0.00e+00   0.00e+00   9.97e-01]]\n"
     ]
    },
    {
     "data": {
      "image/png": "[encoded data removed]",
      "text/plain": [
       "<matplotlib.figure.Figure at 0x7f5db5335860>"
      ]
     },
     "metadata": {},
     "output_type": "display_data"
    },
    {
     "data": {
      "image/png": "[encoded data removed]",
      "text/plain": [
       "<matplotlib.figure.Figure at 0x7f5dba87c9b0>"
      ]
     },
     "metadata": {},
     "output_type": "display_data"
    }
   ],
   "source": [
    "import itertools\n",
    "\n",
    "class_names = [i for i in range(10)]\n",
    "np.set_printoptions(precision=2)\n",
    "\n",
    "# Plot non-normalized confusion matrix\n",
    "plt.figure(figsize=(20,5))\n",
    "plot_confusion_matrix(cnf_matrix, classes=class_names,\n",
    "                      title='Confusion matrix, without normalization')\n",
    "\n",
    "# Plot normalized confusion matrix\n",
    "plt.figure(figsize=(20,5))\n",
    "plot_confusion_matrix(cnf_matrix, classes=class_names, normalize=True,\n",
    "                      title='Normalized confusion matrix')\n",
    "\n",
    "plt.show()"
   ]
  },
  {
   "cell_type": "markdown",
   "metadata": {},
   "source": [
    "# Save weights if model is accurate enough"
   ]
  },
  {
   "cell_type": "code",
   "execution_count": 100,
   "metadata": {
    "collapsed": true
   },
   "outputs": [],
   "source": [
    "# save the weights for every classifier\n",
    "for i, m in enumerate(models):\n",
    "    m.save_weights(\"weights/weights_leaky_relu_model_0.22_additional_epochs\"+str(i)+'.pkl')"
   ]
  }
 ],
 "metadata": {
  "kernelspec": {
   "display_name": "Python 3",
   "language": "python",
   "name": "python3"
  },
  "language_info": {
   "codemirror_mode": {
    "name": "ipython",
    "version": 3
   },
   "file_extension": ".py",
   "mimetype": "text/x-python",
   "name": "python",
   "nbconvert_exporter": "python",
   "pygments_lexer": "ipython3",
   "version": "3.6.2"
  }
 },
 "nbformat": 4,
 "nbformat_minor": 2
}
