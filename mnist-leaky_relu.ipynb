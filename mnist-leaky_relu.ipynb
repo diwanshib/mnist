{
 "cells": [
  {
   "cell_type": "markdown",
   "metadata": {},
   "source": [
    "# MNIST best results\n",
    "Result\tMethod\tVenue\tDetails\n",
    "1. 0.21%\tRegularization of Neural Networks using DropConnect\tICML 2013\t\n",
    "2. 0.23%\tMulti-column Deep Neural Networks for Image Classiﬁcation\tCVPR 2012\t\n",
    "3. 0.23%\tAPAC: Augmented PAttern Classification with Neural Networks\tarXiv 2015\t\n",
    "4. 0.24%\tBatch-normalized Maxout Network in Network\tarXiv 2015\tDetails\n",
    "5. 0.29%\tGeneralizing Pooling Functions in Convolutional Neural Networks: Mixed, Gated, and Tree\tAISTATS 2016\tDetails\n",
    "6. 0.31%\tRecurrent Convolutional Neural Network for Object Recognition\tCVPR 2015\t\n",
    "\n",
    "http://rodrigob.github.io/are_we_there_yet/build/classification_datasets_results.html"
   ]
  },
  {
   "cell_type": "code",
   "execution_count": 1,
   "metadata": {
    "collapsed": true
   },
   "outputs": [],
   "source": [
    "%matplotlib inline"
   ]
  },
  {
   "cell_type": "code",
   "execution_count": 2,
   "metadata": {},
   "outputs": [
    {
     "name": "stderr",
     "output_type": "stream",
     "text": [
      "Using Theano backend.\n",
      "WARNING (theano.sandbox.cuda): The cuda backend is deprecated and will be removed in the next release (v0.10).  Please switch to the gpuarray backend. You can get more information about how to switch at this URL:\n",
      " https://github.com/Theano/Theano/wiki/Converting-to-the-new-gpu-back-end%28gpuarray%29\n",
      "\n",
      "Using gpu device 0: GeForce GTX 1070 (CNMeM is enabled with initial size: 90.0% of memory, cuDNN 5103)\n"
     ]
    }
   ],
   "source": [
    "import keras\n",
    "import numpy as np\n",
    "from keras.datasets import mnist\n",
    "from keras.layers import Dense, Dropout, Conv2D, MaxPooling2D\n",
    "from keras.layers import Flatten, Lambda, BatchNormalization\n",
    "from keras.models import Sequential\n",
    "from keras.optimizers import Adam as Adam\n",
    "\n",
    "# try leaky relu\n",
    "from keras.layers.advanced_activations import LeakyReLU"
   ]
  },
  {
   "cell_type": "markdown",
   "metadata": {},
   "source": [
    "# Load MNIST dataset"
   ]
  },
  {
   "cell_type": "code",
   "execution_count": 3,
   "metadata": {
    "collapsed": true
   },
   "outputs": [],
   "source": [
    "(x_train, y_train), (x_test, y_test) = mnist.load_data()"
   ]
  },
  {
   "cell_type": "code",
   "execution_count": 4,
   "metadata": {
    "collapsed": true
   },
   "outputs": [],
   "source": [
    "rows = 28\n",
    "cols = 28\n",
    "\n",
    "# theano input shape\n",
    "input_shape = (1, rows, cols)"
   ]
  },
  {
   "cell_type": "code",
   "execution_count": 5,
   "metadata": {},
   "outputs": [
    {
     "data": {
      "text/plain": [
       "(60000, 28, 28)"
      ]
     },
     "execution_count": 5,
     "metadata": {},
     "output_type": "execute_result"
    }
   ],
   "source": [
    "x_train.shape"
   ]
  },
  {
   "cell_type": "code",
   "execution_count": 6,
   "metadata": {},
   "outputs": [
    {
     "data": {
      "text/plain": [
       "(60000, 1, 28, 28)"
      ]
     },
     "execution_count": 6,
     "metadata": {},
     "output_type": "execute_result"
    }
   ],
   "source": [
    "# vgg expects channels - here we have just one\n",
    "x_train = x_train.reshape(x_train.shape[0], 1, 28, 28)\n",
    "x_test = x_test.reshape(x_test.shape[0], 1, 28, 28)\n",
    "x_train.shape"
   ]
  },
  {
   "cell_type": "code",
   "execution_count": 7,
   "metadata": {
    "collapsed": true
   },
   "outputs": [],
   "source": [
    "# convert to float\n",
    "x_train = x_train.astype(np.float32)\n",
    "x_test = x_test.astype(np.float32)\n",
    "\n",
    "# normalize\n",
    "x_train /= 255\n",
    "x_test /= 255"
   ]
  },
  {
   "cell_type": "code",
   "execution_count": 8,
   "metadata": {},
   "outputs": [
    {
     "data": {
      "text/plain": [
       "(60000,)"
      ]
     },
     "execution_count": 8,
     "metadata": {},
     "output_type": "execute_result"
    }
   ],
   "source": [
    "y_train.shape"
   ]
  },
  {
   "cell_type": "code",
   "execution_count": 9,
   "metadata": {},
   "outputs": [
    {
     "data": {
      "text/plain": [
       "(60000, 10)"
      ]
     },
     "execution_count": 9,
     "metadata": {},
     "output_type": "execute_result"
    }
   ],
   "source": [
    "# labels should be onehot encoded\n",
    "y_train = keras.utils.to_categorical(y_train, 10)\n",
    "y_test = keras.utils.to_categorical(y_test, 10)\n",
    "\n",
    "y_train.shape"
   ]
  },
  {
   "cell_type": "code",
   "execution_count": 10,
   "metadata": {
    "scrolled": true
   },
   "outputs": [
    {
     "data": {
      "text/plain": [
       "array([[ 0.,  0.,  0.,  0.,  0.,  1.,  0.,  0.,  0.,  0.],\n",
       "       [ 1.,  0.,  0.,  0.,  0.,  0.,  0.,  0.,  0.,  0.],\n",
       "       [ 0.,  0.,  0.,  0.,  1.,  0.,  0.,  0.,  0.,  0.],\n",
       "       [ 0.,  1.,  0.,  0.,  0.,  0.,  0.,  0.,  0.,  0.],\n",
       "       [ 0.,  0.,  0.,  0.,  0.,  0.,  0.,  0.,  0.,  1.]])"
      ]
     },
     "execution_count": 10,
     "metadata": {},
     "output_type": "execute_result"
    }
   ],
   "source": [
    "y_train[:5]"
   ]
  },
  {
   "cell_type": "markdown",
   "metadata": {},
   "source": [
    "# Define model"
   ]
  },
  {
   "cell_type": "code",
   "execution_count": 11,
   "metadata": {
    "collapsed": true
   },
   "outputs": [],
   "source": [
    "# calculate mean and standard deviation\n",
    "mean_px = x_train.mean().astype(np.float32)\n",
    "std_px = x_train.std().astype(np.float32)"
   ]
  },
  {
   "cell_type": "code",
   "execution_count": 12,
   "metadata": {
    "collapsed": true
   },
   "outputs": [],
   "source": [
    "# function to normalize input data\n",
    "def norm_input(x): return (x-mean_px)/std_px"
   ]
  },
  {
   "cell_type": "code",
   "execution_count": 13,
   "metadata": {
    "collapsed": true
   },
   "outputs": [],
   "source": [
    "# jeremy's model, inspired by vgg16\n",
    "# Batchnorm + dropout + data augmentation\n",
    "def create_model():\n",
    "    model = Sequential([\n",
    "        Lambda(norm_input, input_shape=(1,28,28), output_shape=(1,28,28)),\n",
    "        Conv2D(32, (3,3)),\n",
    "        LeakyReLU(),\n",
    "        BatchNormalization(axis=1),\n",
    "        Conv2D(32, (3,3)),\n",
    "        LeakyReLU(),\n",
    "        MaxPooling2D(),\n",
    "        BatchNormalization(axis=1),\n",
    "        Conv2D(64, (3,3)),\n",
    "        LeakyReLU(),\n",
    "        BatchNormalization(axis=1),\n",
    "        Conv2D(64, (3,3)),\n",
    "        LeakyReLU(),\n",
    "        MaxPooling2D(),\n",
    "        Flatten(),\n",
    "        BatchNormalization(),\n",
    "        Dense(512),\n",
    "        LeakyReLU(),\n",
    "        BatchNormalization(),\n",
    "        Dropout(0.3),\n",
    "        Dense(10, activation='softmax')\n",
    "    ])\n",
    "    model.compile(Adam(), loss='categorical_crossentropy', metrics=['accuracy'])\n",
    "    return model"
   ]
  },
  {
   "cell_type": "markdown",
   "metadata": {},
   "source": [
    "# Data augmentation\n",
    "Use keras's data augmentation."
   ]
  },
  {
   "cell_type": "code",
   "execution_count": 14,
   "metadata": {
    "collapsed": true
   },
   "outputs": [],
   "source": [
    "batch_size = 512"
   ]
  },
  {
   "cell_type": "code",
   "execution_count": 15,
   "metadata": {
    "collapsed": true
   },
   "outputs": [],
   "source": [
    "from keras.preprocessing.image import ImageDataGenerator"
   ]
  },
  {
   "cell_type": "code",
   "execution_count": 16,
   "metadata": {
    "collapsed": true
   },
   "outputs": [],
   "source": [
    "gen = ImageDataGenerator(rotation_range=12, width_shift_range=0.1, shear_range=0.3,\n",
    "                        height_shift_range=0.1, zoom_range=0.1, data_format='channels_first')\n",
    "batches = gen.flow(x_train, y_train, batch_size=batch_size)\n",
    "test_batches = gen.flow(x_test, y_test, batch_size=batch_size)\n",
    "steps_per_epoch = int(np.ceil(batches.n/batch_size))\n",
    "validation_steps = int(np.ceil(test_batches.n/batch_size))"
   ]
  },
  {
   "cell_type": "code",
   "execution_count": 17,
   "metadata": {},
   "outputs": [
    {
     "data": {
      "text/plain": [
       "<matplotlib.image.AxesImage at 0x7fd2d60d5940>"
      ]
     },
     "execution_count": 17,
     "metadata": {},
     "output_type": "execute_result"
    },
    {
     "data": {
      "image/png": "[encoded data removed]",
      "text/plain": [
       "<matplotlib.figure.Figure at 0x7fd2d639f208>"
      ]
     },
     "metadata": {},
     "output_type": "display_data"
    }
   ],
   "source": [
    "import matplotlib.pyplot as plt\n",
    "\n",
    "# load ONE image from training set to display on screen\n",
    "img = x_train[1]\n",
    "\n",
    "# visualize original image\n",
    "plt.imshow(img[0], cmap='gray')"
   ]
  },
  {
   "cell_type": "code",
   "execution_count": 18,
   "metadata": {
    "collapsed": true
   },
   "outputs": [],
   "source": [
    "# trick our generator into believing img has enough dimensions\n",
    "# and get some augmented images for our single test image\n",
    "img = np.expand_dims(img, axis=0)\n",
    "aug_iter = gen.flow(img)"
   ]
  },
  {
   "cell_type": "code",
   "execution_count": 19,
   "metadata": {},
   "outputs": [
    {
     "data": {
      "text/plain": [
       "(1, 28, 28)"
      ]
     },
     "execution_count": 19,
     "metadata": {},
     "output_type": "execute_result"
    }
   ],
   "source": [
    "aug_img = next(aug_iter)[0].astype(np.float32)\n",
    "aug_img.shape"
   ]
  },
  {
   "cell_type": "code",
   "execution_count": 20,
   "metadata": {},
   "outputs": [
    {
     "data": {
      "image/png": "[encoded data removed]",
      "text/plain": [
       "<matplotlib.figure.Figure at 0x7fd2d608cf28>"
      ]
     },
     "metadata": {},
     "output_type": "display_data"
    }
   ],
   "source": [
    "import matplotlib.pyplot as plt\n",
    "\n",
    "# show augmented images\n",
    "f = plt.figure(figsize=(12,6))\n",
    "for i in range(8):\n",
    "    sp = f.add_subplot(2, 26//3, i+1)\n",
    "    sp.axis('Off')\n",
    "    aug_img = next(aug_iter)[0].astype(np.float32)\n",
    "    plt.imshow(aug_img[0], cmap='gray')"
   ]
  },
  {
   "cell_type": "code",
   "execution_count": null,
   "metadata": {
    "collapsed": true
   },
   "outputs": [],
   "source": [
    "# compute quantities required for featurewise normalization\n",
    "# (std, mean, and principal components if ZCA whitening is applied)\n",
    "# Only required if featurewise_center or featurewise_std_normalization or zca_whitening.\n",
    "# gen.fit(x_train)"
   ]
  },
  {
   "cell_type": "markdown",
   "metadata": {},
   "source": [
    "# Load models with pretrained weights\n",
    "Here we build on previously trained models."
   ]
  },
  {
   "cell_type": "code",
   "execution_count": 113,
   "metadata": {
    "collapsed": true
   },
   "outputs": [],
   "source": [
    "models = []\n",
    "\n",
    "for i in range(10):\n",
    "    m = create_model()\n",
    "    m.load_weights(\"weights/weights_leaky_relu_model_0.22_\"+str(i)+'.pkl')    \n",
    "    models.append(m)"
   ]
  },
  {
   "cell_type": "markdown",
   "metadata": {},
   "source": [
    "# Ensembling\n",
    "Here we create ten models and fit them to our augmented data. We use the mean prediction from all ten classifiers as our final prediction. This should average out errors in our classifiers and enable us to predict with higher accuracy."
   ]
  },
  {
   "cell_type": "code",
   "execution_count": null,
   "metadata": {
    "collapsed": true
   },
   "outputs": [],
   "source": [
    "# fit the model on batches with real-time data augmentation\n",
    "def fit_model(m):\n",
    "    m.fit_generator(batches, steps_per_epoch=steps_per_epoch, epochs=1, verbose=0,\n",
    "                   validation_data=test_batches, validation_steps=validation_steps)\n",
    "    m.optimizer.lr = 0.1\n",
    "    m.fit_generator(batches, steps_per_epoch=steps_per_epoch, epochs=4, verbose=0,\n",
    "                   validation_data=test_batches, validation_steps=validation_steps)\n",
    "    m.optimizer.lr = 0.01\n",
    "    m.fit_generator(batches, steps_per_epoch=steps_per_epoch, epochs=12, verbose=0,\n",
    "                   validation_data=test_batches, validation_steps=validation_steps)\n",
    "    m.optimizer.lr = 0.001\n",
    "    m.fit_generator(batches, steps_per_epoch=steps_per_epoch, epochs=18, verbose=0,\n",
    "                   validation_data=test_batches, validation_steps=validation_steps)\n",
    "    return m"
   ]
  },
  {
   "cell_type": "markdown",
   "metadata": {},
   "source": [
    "## Create and train ten models"
   ]
  },
  {
   "cell_type": "code",
   "execution_count": null,
   "metadata": {
    "collapsed": true
   },
   "outputs": [],
   "source": [
    "models = []\n",
    "\n",
    "for i in range(10):\n",
    "    print(\"Training model {}\".format(i))\n",
    "    m = fit_model(create_model())\n",
    "    models.append(m)"
   ]
  },
  {
   "cell_type": "code",
   "execution_count": 58,
   "metadata": {
    "collapsed": true
   },
   "outputs": [
    {
     "name": "stdout",
     "output_type": "stream",
     "text": [
      "Model 0\n",
      "Epoch 1/2\n",
      "118/118 [==============================] - 11s - loss: 0.0249 - acc: 0.9922 - val_loss: 0.0241 - val_acc: 0.9925\n",
      "Epoch 2/2\n",
      "118/118 [==============================] - 10s - loss: 0.0263 - acc: 0.9919 - val_loss: 0.0227 - val_acc: 0.9924\n",
      "Model 1\n",
      "Epoch 1/2\n",
      "118/118 [==============================] - 11s - loss: 0.0276 - acc: 0.9917 - val_loss: 0.0293 - val_acc: 0.9911\n",
      "Epoch 2/2\n",
      "118/118 [==============================] - 10s - loss: 0.0277 - acc: 0.9916 - val_loss: 0.0251 - val_acc: 0.9910\n",
      "Model 2\n",
      "Epoch 1/2\n",
      "118/118 [==============================] - 11s - loss: 0.0272 - acc: 0.9912 - val_loss: 0.0265 - val_acc: 0.9917\n",
      "Epoch 2/2\n",
      "118/118 [==============================] - 10s - loss: 0.0254 - acc: 0.9920 - val_loss: 0.0262 - val_acc: 0.9917\n",
      "Model 3\n",
      "Epoch 1/2\n",
      "118/118 [==============================] - 11s - loss: 0.0256 - acc: 0.9918 - val_loss: 0.0270 - val_acc: 0.9917\n",
      "Epoch 2/2\n",
      "118/118 [==============================] - 10s - loss: 0.0272 - acc: 0.9912 - val_loss: 0.0260 - val_acc: 0.9915\n",
      "Model 4\n",
      "Epoch 1/2\n",
      "118/118 [==============================] - 11s - loss: 0.0265 - acc: 0.9915 - val_loss: 0.0267 - val_acc: 0.9917\n",
      "Epoch 2/2\n",
      "118/118 [==============================] - 10s - loss: 0.0244 - acc: 0.9921 - val_loss: 0.0234 - val_acc: 0.9929\n",
      "Model 5\n",
      "Epoch 1/2\n",
      "118/118 [==============================] - 11s - loss: 0.0278 - acc: 0.9911 - val_loss: 0.0284 - val_acc: 0.9899\n",
      "Epoch 2/2\n",
      "118/118 [==============================] - 10s - loss: 0.0275 - acc: 0.9911 - val_loss: 0.0261 - val_acc: 0.9917\n",
      "Model 6\n",
      "Epoch 1/2\n",
      "118/118 [==============================] - 11s - loss: 0.0265 - acc: 0.9918 - val_loss: 0.0253 - val_acc: 0.9917\n",
      "Epoch 2/2\n",
      "118/118 [==============================] - 10s - loss: 0.0245 - acc: 0.9921 - val_loss: 0.0234 - val_acc: 0.9925\n",
      "Model 7\n",
      "Epoch 1/2\n",
      "118/118 [==============================] - 11s - loss: 0.0269 - acc: 0.9915 - val_loss: 0.0279 - val_acc: 0.9907\n",
      "Epoch 2/2\n",
      "118/118 [==============================] - 10s - loss: 0.0255 - acc: 0.9916 - val_loss: 0.0245 - val_acc: 0.9925\n",
      "Model 8\n",
      "Epoch 1/2\n",
      "118/118 [==============================] - 11s - loss: 0.0260 - acc: 0.9917 - val_loss: 0.0262 - val_acc: 0.9915\n",
      "Epoch 2/2\n",
      "118/118 [==============================] - 10s - loss: 0.0241 - acc: 0.9923 - val_loss: 0.0250 - val_acc: 0.9923\n",
      "Model 9\n",
      "Epoch 1/2\n",
      "118/118 [==============================] - 11s - loss: 0.0275 - acc: 0.9916 - val_loss: 0.0226 - val_acc: 0.9923\n",
      "Epoch 2/2\n",
      "118/118 [==============================] - 10s - loss: 0.0244 - acc: 0.9921 - val_loss: 0.0292 - val_acc: 0.9902\n"
     ]
    }
   ],
   "source": [
    "# train models some more if accuracy is not satisfying enough\n",
    "for i, m in enumerate(models):\n",
    "    m.optimizer.lr = 0.0001\n",
    "    print(\"Model {}\".format(i))\n",
    "    m.fit_generator(batches, steps_per_epoch=steps_per_epoch, epochs=2,\n",
    "                   validation_data=test_batches, validation_steps=validation_steps)"
   ]
  },
  {
   "cell_type": "markdown",
   "metadata": {},
   "source": [
    "# Evaluate Model"
   ]
  },
  {
   "cell_type": "code",
   "execution_count": 96,
   "metadata": {
    "collapsed": true
   },
   "outputs": [],
   "source": [
    "eval_batch_size = 512"
   ]
  },
  {
   "cell_type": "code",
   "execution_count": 50,
   "metadata": {},
   "outputs": [
    {
     "name": "stdout",
     "output_type": "stream",
     "text": [
      " 9728/10000 [============================>.] - ETA: 0s"
     ]
    }
   ],
   "source": [
    "# evaluate every model\n",
    "evals = np.array([m.evaluate(x_test,y_test, batch_size=eval_batch_size) for m in models])"
   ]
  },
  {
   "cell_type": "code",
   "execution_count": 51,
   "metadata": {},
   "outputs": [
    {
     "data": {
      "text/plain": [
       "array([ 0.01122509,  0.99641   ])"
      ]
     },
     "execution_count": 51,
     "metadata": {},
     "output_type": "execute_result"
    }
   ],
   "source": [
    "# calculate mean from evaluations\n",
    "evals.mean(axis=0)"
   ]
  },
  {
   "cell_type": "code",
   "execution_count": 114,
   "metadata": {
    "collapsed": true
   },
   "outputs": [],
   "source": [
    "all_preds = np.stack([m.predict(x_test, batch_size=eval_batch_size) for m in models])"
   ]
  },
  {
   "cell_type": "code",
   "execution_count": 115,
   "metadata": {},
   "outputs": [
    {
     "data": {
      "text/plain": [
       "(10, 10000, 10)"
      ]
     },
     "execution_count": 115,
     "metadata": {},
     "output_type": "execute_result"
    }
   ],
   "source": [
    "all_preds.shape"
   ]
  },
  {
   "cell_type": "code",
   "execution_count": 116,
   "metadata": {},
   "outputs": [
    {
     "data": {
      "text/plain": [
       "(10000, 10)"
      ]
     },
     "execution_count": 116,
     "metadata": {},
     "output_type": "execute_result"
    }
   ],
   "source": [
    "avg_preds = all_preds.mean(axis=0)\n",
    "avg_preds.shape"
   ]
  },
  {
   "cell_type": "code",
   "execution_count": 117,
   "metadata": {},
   "outputs": [
    {
     "data": {
      "text/plain": [
       "0.2200007438659668"
      ]
     },
     "execution_count": 117,
     "metadata": {},
     "output_type": "execute_result"
    }
   ],
   "source": [
    "# display error rate in percent\n",
    "(1 - keras.metrics.categorical_accuracy(y_test, avg_preds).eval().mean()) * 100"
   ]
  },
  {
   "cell_type": "markdown",
   "metadata": {},
   "source": [
    "### Results\n",
    "Activation \"relu\":\n",
    "1. 0.26999711990356445\n",
    "2. 0.26000142097473145 trained for one additional epoch\n",
    "\n",
    "Activation \"leaky relu\":\n",
    "1. 0.34000277519226074\n",
    "2. 0.23999810218811035 + two epochs with lr 0.0001 (saved weights as _24)\n",
    "3. 0.23000240325927734 + two epochs with lr 0.0001 (saved weights as _23)\n",
    "4. 0.2200007438659668 + trained model 9 (out of 10) 6 additional epochs with lr 0.0001 (saved weights as _22)\n",
    "5. 0.2200007438659668 + trained ALL models 8 additional epochs with lr 0.0001\n",
    "6. 0.2200007438659668 + 2 additional epochs lr 0.0001\n",
    "7. 0.23999810218811035 + 2 additional epochs lr 0.0001"
   ]
  },
  {
   "cell_type": "markdown",
   "metadata": {},
   "source": [
    "# Show test error rate of every model separately\n",
    "Two copies of the code to easily compare before/after additional training."
   ]
  },
  {
   "cell_type": "code",
   "execution_count": 103,
   "metadata": {
    "scrolled": false
   },
   "outputs": [
    {
     "name": "stdout",
     "output_type": "stream",
     "text": [
      "0 0.300002098083\n",
      "1 0.29000043869\n",
      "2 0.360000133514\n",
      "3 0.330001115799\n",
      "4 0.309997797012\n",
      "5 0.330001115799\n",
      "6 0.360000133514\n",
      "7 0.309997797012\n",
      "8 0.300002098083\n",
      "9 0.349998474121\n"
     ]
    }
   ],
   "source": [
    "for i, m in enumerate(models):\n",
    "    pred = np.array(m.predict(x_test, batch_size=eval_batch_size))\n",
    "    print(i, (1 - keras.metrics.categorical_accuracy(y_test, pred).eval().mean()) * 100)"
   ]
  },
  {
   "cell_type": "code",
   "execution_count": 108,
   "metadata": {
    "scrolled": true
   },
   "outputs": [
    {
     "name": "stdout",
     "output_type": "stream",
     "text": [
      "0 0.340002775192\n",
      "1 0.300002098083\n",
      "2 0.29000043869\n",
      "3 0.349998474121\n",
      "4 0.309997797012\n",
      "5 0.29000043869\n",
      "6 0.38999915123\n",
      "7 0.300002098083\n",
      "8 0.269997119904\n",
      "9 0.300002098083\n"
     ]
    }
   ],
   "source": [
    "for i, m in enumerate(models):\n",
    "    pred = np.array(m.predict(x_test, batch_size=eval_batch_size))\n",
    "    print(i, (1 - keras.metrics.categorical_accuracy(y_test, pred).eval().mean()) * 100)"
   ]
  },
  {
   "cell_type": "markdown",
   "metadata": {},
   "source": [
    "# Train models for some additional epochs"
   ]
  },
  {
   "cell_type": "code",
   "execution_count": 106,
   "metadata": {
    "scrolled": true
   },
   "outputs": [
    {
     "name": "stdout",
     "output_type": "stream",
     "text": [
      "training model 0\n",
      "Epoch 1/2\n",
      "118/118 [==============================] - 11s - loss: 0.0181 - acc: 0.9944 - val_loss: 0.0196 - val_acc: 0.9948\n",
      "Epoch 2/2\n",
      "118/118 [==============================] - 10s - loss: 0.0172 - acc: 0.9944 - val_loss: 0.0206 - val_acc: 0.9938\n",
      "training model 1\n",
      "Epoch 1/2\n",
      "118/118 [==============================] - 11s - loss: 0.0176 - acc: 0.9945 - val_loss: 0.0172 - val_acc: 0.9931\n",
      "Epoch 2/2\n",
      "118/118 [==============================] - 10s - loss: 0.0174 - acc: 0.9943 - val_loss: 0.0172 - val_acc: 0.9947\n",
      "training model 2\n",
      "Epoch 1/2\n",
      "118/118 [==============================] - 11s - loss: 0.0179 - acc: 0.9942 - val_loss: 0.0218 - val_acc: 0.9932\n",
      "Epoch 2/2\n",
      "118/118 [==============================] - 11s - loss: 0.0184 - acc: 0.9943 - val_loss: 0.0218 - val_acc: 0.9935\n",
      "training model 3\n",
      "Epoch 1/2\n",
      "118/118 [==============================] - 12s - loss: 0.0184 - acc: 0.9946 - val_loss: 0.0194 - val_acc: 0.9944\n",
      "Epoch 2/2\n",
      "118/118 [==============================] - 11s - loss: 0.0168 - acc: 0.9945 - val_loss: 0.0211 - val_acc: 0.9929\n",
      "training model 4\n",
      "Epoch 1/2\n",
      "118/118 [==============================] - 12s - loss: 0.0177 - acc: 0.9939 - val_loss: 0.0218 - val_acc: 0.9930\n",
      "Epoch 2/2\n",
      "118/118 [==============================] - 11s - loss: 0.0177 - acc: 0.9942 - val_loss: 0.0191 - val_acc: 0.9944\n",
      "training model 5\n",
      "Epoch 1/2\n",
      "118/118 [==============================] - 12s - loss: 0.0186 - acc: 0.9941 - val_loss: 0.0188 - val_acc: 0.9943\n",
      "Epoch 2/2\n",
      "118/118 [==============================] - 11s - loss: 0.0176 - acc: 0.9944 - val_loss: 0.0212 - val_acc: 0.9936\n",
      "training model 6\n",
      "Epoch 1/2\n",
      "118/118 [==============================] - 12s - loss: 0.0166 - acc: 0.9949 - val_loss: 0.0183 - val_acc: 0.9939\n",
      "Epoch 2/2\n",
      "118/118 [==============================] - 11s - loss: 0.0183 - acc: 0.9944 - val_loss: 0.0206 - val_acc: 0.9933\n",
      "training model 7\n",
      "Epoch 1/2\n",
      "118/118 [==============================] - 12s - loss: 0.0197 - acc: 0.9937 - val_loss: 0.0218 - val_acc: 0.9935\n",
      "Epoch 2/2\n",
      "118/118 [==============================] - 11s - loss: 0.0174 - acc: 0.9947 - val_loss: 0.0202 - val_acc: 0.9932\n",
      "training model 8\n",
      "Epoch 1/2\n",
      "118/118 [==============================] - 12s - loss: 0.0170 - acc: 0.9946 - val_loss: 0.0195 - val_acc: 0.9933\n",
      "Epoch 2/2\n",
      "118/118 [==============================] - 11s - loss: 0.0174 - acc: 0.9947 - val_loss: 0.0168 - val_acc: 0.9938\n",
      "training model 9\n",
      "Epoch 1/2\n",
      "118/118 [==============================] - 12s - loss: 0.0172 - acc: 0.9945 - val_loss: 0.0197 - val_acc: 0.9934\n",
      "Epoch 2/2\n",
      "118/118 [==============================] - 11s - loss: 0.0176 - acc: 0.9944 - val_loss: 0.0183 - val_acc: 0.9947\n"
     ]
    }
   ],
   "source": [
    "histories = []\n",
    "\n",
    "for i, m in enumerate(models):\n",
    "    m.optimizer.lr = 0.0001\n",
    "    print(\"training model {}\".format(i))\n",
    "    history = m.fit_generator(batches, steps_per_epoch=steps_per_epoch, epochs=2,\n",
    "                   validation_data=test_batches, validation_steps=validation_steps)\n",
    "    histories.append(history)"
   ]
  },
  {
   "cell_type": "markdown",
   "metadata": {},
   "source": [
    "# Plot Training History"
   ]
  },
  {
   "cell_type": "markdown",
   "metadata": {},
   "source": [
    "Jason Brownlee's script to plot model training history:\n",
    "https://machinelearningmastery.com/display-deep-learning-model-training-history-in-keras/"
   ]
  },
  {
   "cell_type": "code",
   "execution_count": 107,
   "metadata": {},
   "outputs": [
    {
     "name": "stdout",
     "output_type": "stream",
     "text": [
      "dict_keys(['val_loss', 'val_acc', 'loss', 'acc'])\n"
     ]
    },
    {
     "data": {
      "image/png": "[encoded data removed]",
      "text/plain": [
       "<matplotlib.figure.Figure at 0x7fd27613a1d0>"
      ]
     },
     "metadata": {},
     "output_type": "display_data"
    },
    {
     "data": {
      "image/png": "[encoded data removed]",
      "text/plain": [
       "<matplotlib.figure.Figure at 0x7fd27632c550>"
      ]
     },
     "metadata": {},
     "output_type": "display_data"
    }
   ],
   "source": [
    "import matplotlib.pyplot as plt\n",
    "\n",
    "history = histories[0]\n",
    "\n",
    "# list all data in history\n",
    "print(history.history.keys())\n",
    "# summarize history for accuracy\n",
    "plt.plot(history.history['acc'])\n",
    "plt.plot(history.history['val_acc'])\n",
    "plt.title('model accuracy')\n",
    "plt.ylabel('accuracy')\n",
    "plt.xlabel('epoch')\n",
    "plt.legend(['train', 'test'], loc='upper left')\n",
    "plt.show()\n",
    "# summarize history for loss\n",
    "plt.plot(history.history['loss'])\n",
    "plt.plot(history.history['val_loss'])\n",
    "plt.title('model loss')\n",
    "plt.ylabel('loss')\n",
    "plt.xlabel('epoch')\n",
    "plt.legend(['train', 'test'], loc='upper left')\n",
    "plt.show()"
   ]
  },
  {
   "cell_type": "markdown",
   "metadata": {},
   "source": [
    "# Try evaluation only with best performing models\n",
    "This doesn't seem to improve results at all."
   ]
  },
  {
   "cell_type": "code",
   "execution_count": 77,
   "metadata": {
    "collapsed": true
   },
   "outputs": [],
   "source": [
    "best_model_numbers = [8]"
   ]
  },
  {
   "cell_type": "code",
   "execution_count": 78,
   "metadata": {},
   "outputs": [],
   "source": [
    "best_models = []\n",
    "\n",
    "for i in best_model_numbers:\n",
    "    best_models.append(models[i])"
   ]
  },
  {
   "cell_type": "code",
   "execution_count": 79,
   "metadata": {},
   "outputs": [
    {
     "name": "stdout",
     "output_type": "stream",
     "text": [
      " 9728/10000 [============================>.] - ETA: 0s"
     ]
    }
   ],
   "source": [
    "# evaluate every model\n",
    "evals = np.array([m.evaluate(x_test,y_test, batch_size=eval_batch_size) for m in best_models])"
   ]
  },
  {
   "cell_type": "code",
   "execution_count": 80,
   "metadata": {},
   "outputs": [
    {
     "data": {
      "text/plain": [
       "array([ 0.00990715,  0.9971    ])"
      ]
     },
     "execution_count": 80,
     "metadata": {},
     "output_type": "execute_result"
    }
   ],
   "source": [
    "# calculate mean from evaluations\n",
    "evals.mean(axis=0)"
   ]
  },
  {
   "cell_type": "code",
   "execution_count": 81,
   "metadata": {
    "collapsed": true
   },
   "outputs": [],
   "source": [
    "all_preds = np.stack([m.predict(x_test, batch_size=eval_batch_size) for m in best_models])"
   ]
  },
  {
   "cell_type": "code",
   "execution_count": 82,
   "metadata": {},
   "outputs": [
    {
     "data": {
      "text/plain": [
       "(1, 10000, 10)"
      ]
     },
     "execution_count": 82,
     "metadata": {},
     "output_type": "execute_result"
    }
   ],
   "source": [
    "all_preds.shape"
   ]
  },
  {
   "cell_type": "code",
   "execution_count": 83,
   "metadata": {},
   "outputs": [
    {
     "data": {
      "text/plain": [
       "(10000, 10)"
      ]
     },
     "execution_count": 83,
     "metadata": {},
     "output_type": "execute_result"
    }
   ],
   "source": [
    "avg_preds = all_preds.mean(axis=0)\n",
    "avg_preds.shape"
   ]
  },
  {
   "cell_type": "code",
   "execution_count": 84,
   "metadata": {},
   "outputs": [
    {
     "data": {
      "text/plain": [
       "0.29000043869018555"
      ]
     },
     "execution_count": 84,
     "metadata": {},
     "output_type": "execute_result"
    }
   ],
   "source": [
    "# display error rate in percent\n",
    "(1 - keras.metrics.categorical_accuracy(y_test, avg_preds).eval().mean()) * 100"
   ]
  },
  {
   "cell_type": "markdown",
   "metadata": {},
   "source": [
    "# Visualize model"
   ]
  },
  {
   "cell_type": "code",
   "execution_count": 18,
   "metadata": {
    "scrolled": true
   },
   "outputs": [
    {
     "name": "stdout",
     "output_type": "stream",
     "text": [
      "_________________________________________________________________\n",
      "Layer (type)                 Output Shape              Param #   \n",
      "=================================================================\n",
      "lambda_1 (Lambda)            (None, 1, 28, 28)         0         \n",
      "_________________________________________________________________\n",
      "conv2d_1 (Conv2D)            (None, 32, 26, 26)        320       \n",
      "_________________________________________________________________\n",
      "leaky_re_lu_1 (LeakyReLU)    (None, 32, 26, 26)        0         \n",
      "_________________________________________________________________\n",
      "batch_normalization_1 (Batch (None, 32, 26, 26)        128       \n",
      "_________________________________________________________________\n",
      "conv2d_2 (Conv2D)            (None, 32, 24, 24)        9248      \n",
      "_________________________________________________________________\n",
      "leaky_re_lu_2 (LeakyReLU)    (None, 32, 24, 24)        0         \n",
      "_________________________________________________________________\n",
      "max_pooling2d_1 (MaxPooling2 (None, 32, 12, 12)        0         \n",
      "_________________________________________________________________\n",
      "batch_normalization_2 (Batch (None, 32, 12, 12)        128       \n",
      "_________________________________________________________________\n",
      "conv2d_3 (Conv2D)            (None, 64, 10, 10)        18496     \n",
      "_________________________________________________________________\n",
      "leaky_re_lu_3 (LeakyReLU)    (None, 64, 10, 10)        0         \n",
      "_________________________________________________________________\n",
      "batch_normalization_3 (Batch (None, 64, 10, 10)        256       \n",
      "_________________________________________________________________\n",
      "conv2d_4 (Conv2D)            (None, 64, 8, 8)          36928     \n",
      "_________________________________________________________________\n",
      "leaky_re_lu_4 (LeakyReLU)    (None, 64, 8, 8)          0         \n",
      "_________________________________________________________________\n",
      "max_pooling2d_2 (MaxPooling2 (None, 64, 4, 4)          0         \n",
      "_________________________________________________________________\n",
      "flatten_1 (Flatten)          (None, 1024)              0         \n",
      "_________________________________________________________________\n",
      "batch_normalization_4 (Batch (None, 1024)              4096      \n",
      "_________________________________________________________________\n",
      "dense_1 (Dense)              (None, 512)               524800    \n",
      "_________________________________________________________________\n",
      "leaky_re_lu_5 (LeakyReLU)    (None, 512)               0         \n",
      "_________________________________________________________________\n",
      "batch_normalization_5 (Batch (None, 512)               2048      \n",
      "_________________________________________________________________\n",
      "dropout_1 (Dropout)          (None, 512)               0         \n",
      "_________________________________________________________________\n",
      "dense_2 (Dense)              (None, 10)                5130      \n",
      "=================================================================\n",
      "Total params: 601,578.0\n",
      "Trainable params: 598,250.0\n",
      "Non-trainable params: 3,328.0\n",
      "_________________________________________________________________\n"
     ]
    }
   ],
   "source": [
    "models[0].summary()"
   ]
  },
  {
   "cell_type": "code",
   "execution_count": 16,
   "metadata": {
    "scrolled": true
   },
   "outputs": [
    {
     "data": {
      "image/svg+xml": [
       "<svg height=\"1578pt\" viewBox=\"0.00 0.00 268.00 1578.00\" width=\"268pt\" xmlns=\"http://www.w3.org/2000/svg\" xmlns:xlink=\"http://www.w3.org/1999/xlink\">\n",
       "<g class=\"graph\" id=\"graph0\" transform=\"scale(1 1) rotate(0) translate(4 1574)\">\n",
       "<title>G</title>\n",
       "<polygon fill=\"white\" points=\"-4,4 -4,-1574 264,-1574 264,4 -4,4\" stroke=\"none\"/>\n",
       "<!-- 140105562648416 -->\n",
       "<g class=\"node\" id=\"node1\"><title>140105562648416</title>\n",
       "<polygon fill=\"none\" points=\"43.5,-1533.5 43.5,-1569.5 216.5,-1569.5 216.5,-1533.5 43.5,-1533.5\" stroke=\"black\"/>\n",
       "<text font-family=\"Times,serif\" font-size=\"14.00\" text-anchor=\"middle\" x=\"130\" y=\"-1547.8\">lambda_1_input: InputLayer</text>\n",
       "</g>\n",
       "<!-- 140106270563240 -->\n",
       "<g class=\"node\" id=\"node2\"><title>140106270563240</title>\n",
       "<polygon fill=\"none\" points=\"68.5,-1460.5 68.5,-1496.5 191.5,-1496.5 191.5,-1460.5 68.5,-1460.5\" stroke=\"black\"/>\n",
       "<text font-family=\"Times,serif\" font-size=\"14.00\" text-anchor=\"middle\" x=\"130\" y=\"-1474.8\">lambda_1: Lambda</text>\n",
       "</g>\n",
       "<!-- 140105562648416&#45;&gt;140106270563240 -->\n",
       "<g class=\"edge\" id=\"edge1\"><title>140105562648416-&gt;140106270563240</title>\n",
       "<path d=\"M130,-1533.31C130,-1525.29 130,-1515.55 130,-1506.57\" fill=\"none\" stroke=\"black\"/>\n",
       "<polygon fill=\"black\" points=\"133.5,-1506.53 130,-1496.53 126.5,-1506.53 133.5,-1506.53\" stroke=\"black\"/>\n",
       "</g>\n",
       "<!-- 140105568626224 -->\n",
       "<g class=\"node\" id=\"node3\"><title>140105568626224</title>\n",
       "<polygon fill=\"none\" points=\"68.5,-1387.5 68.5,-1423.5 191.5,-1423.5 191.5,-1387.5 68.5,-1387.5\" stroke=\"black\"/>\n",
       "<text font-family=\"Times,serif\" font-size=\"14.00\" text-anchor=\"middle\" x=\"130\" y=\"-1401.8\">conv2d_1: Conv2D</text>\n",
       "</g>\n",
       "<!-- 140106270563240&#45;&gt;140105568626224 -->\n",
       "<g class=\"edge\" id=\"edge2\"><title>140106270563240-&gt;140105568626224</title>\n",
       "<path d=\"M130,-1460.31C130,-1452.29 130,-1442.55 130,-1433.57\" fill=\"none\" stroke=\"black\"/>\n",
       "<polygon fill=\"black\" points=\"133.5,-1433.53 130,-1423.53 126.5,-1433.53 133.5,-1433.53\" stroke=\"black\"/>\n",
       "</g>\n",
       "<!-- 140105562735000 -->\n",
       "<g class=\"node\" id=\"node4\"><title>140105562735000</title>\n",
       "<polygon fill=\"none\" points=\"46,-1314.5 46,-1350.5 214,-1350.5 214,-1314.5 46,-1314.5\" stroke=\"black\"/>\n",
       "<text font-family=\"Times,serif\" font-size=\"14.00\" text-anchor=\"middle\" x=\"130\" y=\"-1328.8\">leaky_re_lu_1: LeakyReLU</text>\n",
       "</g>\n",
       "<!-- 140105568626224&#45;&gt;140105562735000 -->\n",
       "<g class=\"edge\" id=\"edge3\"><title>140105568626224-&gt;140105562735000</title>\n",
       "<path d=\"M130,-1387.31C130,-1379.29 130,-1369.55 130,-1360.57\" fill=\"none\" stroke=\"black\"/>\n",
       "<polygon fill=\"black\" points=\"133.5,-1360.53 130,-1350.53 126.5,-1360.53 133.5,-1360.53\" stroke=\"black\"/>\n",
       "</g>\n",
       "<!-- 140105562735112 -->\n",
       "<g class=\"node\" id=\"node5\"><title>140105562735112</title>\n",
       "<polygon fill=\"none\" points=\"0,-1241.5 0,-1277.5 260,-1277.5 260,-1241.5 0,-1241.5\" stroke=\"black\"/>\n",
       "<text font-family=\"Times,serif\" font-size=\"14.00\" text-anchor=\"middle\" x=\"130\" y=\"-1255.8\">batch_normalization_1: BatchNormalization</text>\n",
       "</g>\n",
       "<!-- 140105562735000&#45;&gt;140105562735112 -->\n",
       "<g class=\"edge\" id=\"edge4\"><title>140105562735000-&gt;140105562735112</title>\n",
       "<path d=\"M130,-1314.31C130,-1306.29 130,-1296.55 130,-1287.57\" fill=\"none\" stroke=\"black\"/>\n",
       "<polygon fill=\"black\" points=\"133.5,-1287.53 130,-1277.53 126.5,-1287.53 133.5,-1287.53\" stroke=\"black\"/>\n",
       "</g>\n",
       "<!-- 140105562734832 -->\n",
       "<g class=\"node\" id=\"node6\"><title>140105562734832</title>\n",
       "<polygon fill=\"none\" points=\"68.5,-1168.5 68.5,-1204.5 191.5,-1204.5 191.5,-1168.5 68.5,-1168.5\" stroke=\"black\"/>\n",
       "<text font-family=\"Times,serif\" font-size=\"14.00\" text-anchor=\"middle\" x=\"130\" y=\"-1182.8\">conv2d_2: Conv2D</text>\n",
       "</g>\n",
       "<!-- 140105562735112&#45;&gt;140105562734832 -->\n",
       "<g class=\"edge\" id=\"edge5\"><title>140105562735112-&gt;140105562734832</title>\n",
       "<path d=\"M130,-1241.31C130,-1233.29 130,-1223.55 130,-1214.57\" fill=\"none\" stroke=\"black\"/>\n",
       "<polygon fill=\"black\" points=\"133.5,-1214.53 130,-1204.53 126.5,-1214.53 133.5,-1214.53\" stroke=\"black\"/>\n",
       "</g>\n",
       "<!-- 140105562735224 -->\n",
       "<g class=\"node\" id=\"node7\"><title>140105562735224</title>\n",
       "<polygon fill=\"none\" points=\"46,-1095.5 46,-1131.5 214,-1131.5 214,-1095.5 46,-1095.5\" stroke=\"black\"/>\n",
       "<text font-family=\"Times,serif\" font-size=\"14.00\" text-anchor=\"middle\" x=\"130\" y=\"-1109.8\">leaky_re_lu_2: LeakyReLU</text>\n",
       "</g>\n",
       "<!-- 140105562734832&#45;&gt;140105562735224 -->\n",
       "<g class=\"edge\" id=\"edge6\"><title>140105562734832-&gt;140105562735224</title>\n",
       "<path d=\"M130,-1168.31C130,-1160.29 130,-1150.55 130,-1141.57\" fill=\"none\" stroke=\"black\"/>\n",
       "<polygon fill=\"black\" points=\"133.5,-1141.53 130,-1131.53 126.5,-1141.53 133.5,-1141.53\" stroke=\"black\"/>\n",
       "</g>\n",
       "<!-- 140105562735504 -->\n",
       "<g class=\"node\" id=\"node8\"><title>140105562735504</title>\n",
       "<polygon fill=\"none\" points=\"26.5,-1022.5 26.5,-1058.5 233.5,-1058.5 233.5,-1022.5 26.5,-1022.5\" stroke=\"black\"/>\n",
       "<text font-family=\"Times,serif\" font-size=\"14.00\" text-anchor=\"middle\" x=\"130\" y=\"-1036.8\">max_pooling2d_1: MaxPooling2D</text>\n",
       "</g>\n",
       "<!-- 140105562735224&#45;&gt;140105562735504 -->\n",
       "<g class=\"edge\" id=\"edge7\"><title>140105562735224-&gt;140105562735504</title>\n",
       "<path d=\"M130,-1095.31C130,-1087.29 130,-1077.55 130,-1068.57\" fill=\"none\" stroke=\"black\"/>\n",
       "<polygon fill=\"black\" points=\"133.5,-1068.53 130,-1058.53 126.5,-1068.53 133.5,-1068.53\" stroke=\"black\"/>\n",
       "</g>\n",
       "<!-- 140105562735952 -->\n",
       "<g class=\"node\" id=\"node9\"><title>140105562735952</title>\n",
       "<polygon fill=\"none\" points=\"0,-949.5 0,-985.5 260,-985.5 260,-949.5 0,-949.5\" stroke=\"black\"/>\n",
       "<text font-family=\"Times,serif\" font-size=\"14.00\" text-anchor=\"middle\" x=\"130\" y=\"-963.8\">batch_normalization_2: BatchNormalization</text>\n",
       "</g>\n",
       "<!-- 140105562735504&#45;&gt;140105562735952 -->\n",
       "<g class=\"edge\" id=\"edge8\"><title>140105562735504-&gt;140105562735952</title>\n",
       "<path d=\"M130,-1022.31C130,-1014.29 130,-1004.55 130,-995.569\" fill=\"none\" stroke=\"black\"/>\n",
       "<polygon fill=\"black\" points=\"133.5,-995.529 130,-985.529 126.5,-995.529 133.5,-995.529\" stroke=\"black\"/>\n",
       "</g>\n",
       "<!-- 140105562736176 -->\n",
       "<g class=\"node\" id=\"node10\"><title>140105562736176</title>\n",
       "<polygon fill=\"none\" points=\"68.5,-876.5 68.5,-912.5 191.5,-912.5 191.5,-876.5 68.5,-876.5\" stroke=\"black\"/>\n",
       "<text font-family=\"Times,serif\" font-size=\"14.00\" text-anchor=\"middle\" x=\"130\" y=\"-890.8\">conv2d_3: Conv2D</text>\n",
       "</g>\n",
       "<!-- 140105562735952&#45;&gt;140105562736176 -->\n",
       "<g class=\"edge\" id=\"edge9\"><title>140105562735952-&gt;140105562736176</title>\n",
       "<path d=\"M130,-949.313C130,-941.289 130,-931.547 130,-922.569\" fill=\"none\" stroke=\"black\"/>\n",
       "<polygon fill=\"black\" points=\"133.5,-922.529 130,-912.529 126.5,-922.529 133.5,-922.529\" stroke=\"black\"/>\n",
       "</g>\n",
       "<!-- 140105562736400 -->\n",
       "<g class=\"node\" id=\"node11\"><title>140105562736400</title>\n",
       "<polygon fill=\"none\" points=\"46,-803.5 46,-839.5 214,-839.5 214,-803.5 46,-803.5\" stroke=\"black\"/>\n",
       "<text font-family=\"Times,serif\" font-size=\"14.00\" text-anchor=\"middle\" x=\"130\" y=\"-817.8\">leaky_re_lu_3: LeakyReLU</text>\n",
       "</g>\n",
       "<!-- 140105562736176&#45;&gt;140105562736400 -->\n",
       "<g class=\"edge\" id=\"edge10\"><title>140105562736176-&gt;140105562736400</title>\n",
       "<path d=\"M130,-876.313C130,-868.289 130,-858.547 130,-849.569\" fill=\"none\" stroke=\"black\"/>\n",
       "<polygon fill=\"black\" points=\"133.5,-849.529 130,-839.529 126.5,-849.529 133.5,-849.529\" stroke=\"black\"/>\n",
       "</g>\n",
       "<!-- 140105562736680 -->\n",
       "<g class=\"node\" id=\"node12\"><title>140105562736680</title>\n",
       "<polygon fill=\"none\" points=\"0,-730.5 0,-766.5 260,-766.5 260,-730.5 0,-730.5\" stroke=\"black\"/>\n",
       "<text font-family=\"Times,serif\" font-size=\"14.00\" text-anchor=\"middle\" x=\"130\" y=\"-744.8\">batch_normalization_3: BatchNormalization</text>\n",
       "</g>\n",
       "<!-- 140105562736400&#45;&gt;140105562736680 -->\n",
       "<g class=\"edge\" id=\"edge11\"><title>140105562736400-&gt;140105562736680</title>\n",
       "<path d=\"M130,-803.313C130,-795.289 130,-785.547 130,-776.569\" fill=\"none\" stroke=\"black\"/>\n",
       "<polygon fill=\"black\" points=\"133.5,-776.529 130,-766.529 126.5,-776.529 133.5,-776.529\" stroke=\"black\"/>\n",
       "</g>\n",
       "<!-- 140105562736904 -->\n",
       "<g class=\"node\" id=\"node13\"><title>140105562736904</title>\n",
       "<polygon fill=\"none\" points=\"68.5,-657.5 68.5,-693.5 191.5,-693.5 191.5,-657.5 68.5,-657.5\" stroke=\"black\"/>\n",
       "<text font-family=\"Times,serif\" font-size=\"14.00\" text-anchor=\"middle\" x=\"130\" y=\"-671.8\">conv2d_4: Conv2D</text>\n",
       "</g>\n",
       "<!-- 140105562736680&#45;&gt;140105562736904 -->\n",
       "<g class=\"edge\" id=\"edge12\"><title>140105562736680-&gt;140105562736904</title>\n",
       "<path d=\"M130,-730.313C130,-722.289 130,-712.547 130,-703.569\" fill=\"none\" stroke=\"black\"/>\n",
       "<polygon fill=\"black\" points=\"133.5,-703.529 130,-693.529 126.5,-703.529 133.5,-703.529\" stroke=\"black\"/>\n",
       "</g>\n",
       "<!-- 140105562737240 -->\n",
       "<g class=\"node\" id=\"node14\"><title>140105562737240</title>\n",
       "<polygon fill=\"none\" points=\"46,-584.5 46,-620.5 214,-620.5 214,-584.5 46,-584.5\" stroke=\"black\"/>\n",
       "<text font-family=\"Times,serif\" font-size=\"14.00\" text-anchor=\"middle\" x=\"130\" y=\"-598.8\">leaky_re_lu_4: LeakyReLU</text>\n",
       "</g>\n",
       "<!-- 140105562736904&#45;&gt;140105562737240 -->\n",
       "<g class=\"edge\" id=\"edge13\"><title>140105562736904-&gt;140105562737240</title>\n",
       "<path d=\"M130,-657.313C130,-649.289 130,-639.547 130,-630.569\" fill=\"none\" stroke=\"black\"/>\n",
       "<polygon fill=\"black\" points=\"133.5,-630.529 130,-620.529 126.5,-630.529 133.5,-630.529\" stroke=\"black\"/>\n",
       "</g>\n",
       "<!-- 140105562737408 -->\n",
       "<g class=\"node\" id=\"node15\"><title>140105562737408</title>\n",
       "<polygon fill=\"none\" points=\"26.5,-511.5 26.5,-547.5 233.5,-547.5 233.5,-511.5 26.5,-511.5\" stroke=\"black\"/>\n",
       "<text font-family=\"Times,serif\" font-size=\"14.00\" text-anchor=\"middle\" x=\"130\" y=\"-525.8\">max_pooling2d_2: MaxPooling2D</text>\n",
       "</g>\n",
       "<!-- 140105562737240&#45;&gt;140105562737408 -->\n",
       "<g class=\"edge\" id=\"edge14\"><title>140105562737240-&gt;140105562737408</title>\n",
       "<path d=\"M130,-584.313C130,-576.289 130,-566.547 130,-557.569\" fill=\"none\" stroke=\"black\"/>\n",
       "<polygon fill=\"black\" points=\"133.5,-557.529 130,-547.529 126.5,-557.529 133.5,-557.529\" stroke=\"black\"/>\n",
       "</g>\n",
       "<!-- 140105562737296 -->\n",
       "<g class=\"node\" id=\"node16\"><title>140105562737296</title>\n",
       "<polygon fill=\"none\" points=\"75,-438.5 75,-474.5 185,-474.5 185,-438.5 75,-438.5\" stroke=\"black\"/>\n",
       "<text font-family=\"Times,serif\" font-size=\"14.00\" text-anchor=\"middle\" x=\"130\" y=\"-452.8\">flatten_1: Flatten</text>\n",
       "</g>\n",
       "<!-- 140105562737408&#45;&gt;140105562737296 -->\n",
       "<g class=\"edge\" id=\"edge15\"><title>140105562737408-&gt;140105562737296</title>\n",
       "<path d=\"M130,-511.313C130,-503.289 130,-493.547 130,-484.569\" fill=\"none\" stroke=\"black\"/>\n",
       "<polygon fill=\"black\" points=\"133.5,-484.529 130,-474.529 126.5,-484.529 133.5,-484.529\" stroke=\"black\"/>\n",
       "</g>\n",
       "<!-- 140105562737632 -->\n",
       "<g class=\"node\" id=\"node17\"><title>140105562737632</title>\n",
       "<polygon fill=\"none\" points=\"0,-365.5 0,-401.5 260,-401.5 260,-365.5 0,-365.5\" stroke=\"black\"/>\n",
       "<text font-family=\"Times,serif\" font-size=\"14.00\" text-anchor=\"middle\" x=\"130\" y=\"-379.8\">batch_normalization_4: BatchNormalization</text>\n",
       "</g>\n",
       "<!-- 140105562737296&#45;&gt;140105562737632 -->\n",
       "<g class=\"edge\" id=\"edge16\"><title>140105562737296-&gt;140105562737632</title>\n",
       "<path d=\"M130,-438.313C130,-430.289 130,-420.547 130,-411.569\" fill=\"none\" stroke=\"black\"/>\n",
       "<polygon fill=\"black\" points=\"133.5,-411.529 130,-401.529 126.5,-411.529 133.5,-411.529\" stroke=\"black\"/>\n",
       "</g>\n",
       "<!-- 140105562737912 -->\n",
       "<g class=\"node\" id=\"node18\"><title>140105562737912</title>\n",
       "<polygon fill=\"none\" points=\"79,-292.5 79,-328.5 181,-328.5 181,-292.5 79,-292.5\" stroke=\"black\"/>\n",
       "<text font-family=\"Times,serif\" font-size=\"14.00\" text-anchor=\"middle\" x=\"130\" y=\"-306.8\">dense_1: Dense</text>\n",
       "</g>\n",
       "<!-- 140105562737632&#45;&gt;140105562737912 -->\n",
       "<g class=\"edge\" id=\"edge17\"><title>140105562737632-&gt;140105562737912</title>\n",
       "<path d=\"M130,-365.313C130,-357.289 130,-347.547 130,-338.569\" fill=\"none\" stroke=\"black\"/>\n",
       "<polygon fill=\"black\" points=\"133.5,-338.529 130,-328.529 126.5,-338.529 133.5,-338.529\" stroke=\"black\"/>\n",
       "</g>\n",
       "<!-- 140105562738304 -->\n",
       "<g class=\"node\" id=\"node19\"><title>140105562738304</title>\n",
       "<polygon fill=\"none\" points=\"46,-219.5 46,-255.5 214,-255.5 214,-219.5 46,-219.5\" stroke=\"black\"/>\n",
       "<text font-family=\"Times,serif\" font-size=\"14.00\" text-anchor=\"middle\" x=\"130\" y=\"-233.8\">leaky_re_lu_5: LeakyReLU</text>\n",
       "</g>\n",
       "<!-- 140105562737912&#45;&gt;140105562738304 -->\n",
       "<g class=\"edge\" id=\"edge18\"><title>140105562737912-&gt;140105562738304</title>\n",
       "<path d=\"M130,-292.313C130,-284.289 130,-274.547 130,-265.569\" fill=\"none\" stroke=\"black\"/>\n",
       "<polygon fill=\"black\" points=\"133.5,-265.529 130,-255.529 126.5,-265.529 133.5,-265.529\" stroke=\"black\"/>\n",
       "</g>\n",
       "<!-- 140105562738360 -->\n",
       "<g class=\"node\" id=\"node20\"><title>140105562738360</title>\n",
       "<polygon fill=\"none\" points=\"0,-146.5 0,-182.5 260,-182.5 260,-146.5 0,-146.5\" stroke=\"black\"/>\n",
       "<text font-family=\"Times,serif\" font-size=\"14.00\" text-anchor=\"middle\" x=\"130\" y=\"-160.8\">batch_normalization_5: BatchNormalization</text>\n",
       "</g>\n",
       "<!-- 140105562738304&#45;&gt;140105562738360 -->\n",
       "<g class=\"edge\" id=\"edge19\"><title>140105562738304-&gt;140105562738360</title>\n",
       "<path d=\"M130,-219.313C130,-211.289 130,-201.547 130,-192.569\" fill=\"none\" stroke=\"black\"/>\n",
       "<polygon fill=\"black\" points=\"133.5,-192.529 130,-182.529 126.5,-192.529 133.5,-192.529\" stroke=\"black\"/>\n",
       "</g>\n",
       "<!-- 140105562738640 -->\n",
       "<g class=\"node\" id=\"node21\"><title>140105562738640</title>\n",
       "<polygon fill=\"none\" points=\"67.5,-73.5 67.5,-109.5 192.5,-109.5 192.5,-73.5 67.5,-73.5\" stroke=\"black\"/>\n",
       "<text font-family=\"Times,serif\" font-size=\"14.00\" text-anchor=\"middle\" x=\"130\" y=\"-87.8\">dropout_1: Dropout</text>\n",
       "</g>\n",
       "<!-- 140105562738360&#45;&gt;140105562738640 -->\n",
       "<g class=\"edge\" id=\"edge20\"><title>140105562738360-&gt;140105562738640</title>\n",
       "<path d=\"M130,-146.313C130,-138.289 130,-128.547 130,-119.569\" fill=\"none\" stroke=\"black\"/>\n",
       "<polygon fill=\"black\" points=\"133.5,-119.529 130,-109.529 126.5,-119.529 133.5,-119.529\" stroke=\"black\"/>\n",
       "</g>\n",
       "<!-- 140106905881064 -->\n",
       "<g class=\"node\" id=\"node22\"><title>140106905881064</title>\n",
       "<polygon fill=\"none\" points=\"79,-0.5 79,-36.5 181,-36.5 181,-0.5 79,-0.5\" stroke=\"black\"/>\n",
       "<text font-family=\"Times,serif\" font-size=\"14.00\" text-anchor=\"middle\" x=\"130\" y=\"-14.8\">dense_2: Dense</text>\n",
       "</g>\n",
       "<!-- 140105562738640&#45;&gt;140106905881064 -->\n",
       "<g class=\"edge\" id=\"edge21\"><title>140105562738640-&gt;140106905881064</title>\n",
       "<path d=\"M130,-73.3129C130,-65.2895 130,-55.5475 130,-46.5691\" fill=\"none\" stroke=\"black\"/>\n",
       "<polygon fill=\"black\" points=\"133.5,-46.5288 130,-36.5288 126.5,-46.5289 133.5,-46.5288\" stroke=\"black\"/>\n",
       "</g>\n",
       "</g>\n",
       "</svg>"
      ],
      "text/plain": [
       "<IPython.core.display.SVG object>"
      ]
     },
     "execution_count": 16,
     "metadata": {},
     "output_type": "execute_result"
    }
   ],
   "source": [
    "# fix for python3\n",
    "import pydotplus as pydot\n",
    "\n",
    "from keras.utils import plot_model\n",
    "plot_model(models[0], to_file='model.png')\n",
    "\n",
    "# visualize our model\n",
    "from IPython.display import SVG\n",
    "from keras.utils.vis_utils import model_to_dot\n",
    "SVG(model_to_dot(models[0]).create(prog='dot', format='svg'))"
   ]
  },
  {
   "cell_type": "markdown",
   "metadata": {},
   "source": [
    "# Save weights if model is accurate enough"
   ]
  },
  {
   "cell_type": "code",
   "execution_count": 76,
   "metadata": {
    "collapsed": true
   },
   "outputs": [],
   "source": [
    "# save the weights for every classifier\n",
    "for i, m in enumerate(models):\n",
    "    m.save_weights(\"weights/weights_leaky_relu_model_0.2x_\"+str(i)+'.pkl')"
   ]
  },
  {
   "cell_type": "code",
   "execution_count": null,
   "metadata": {
    "collapsed": true
   },
   "outputs": [],
   "source": []
  }
 ],
 "metadata": {
  "kernelspec": {
   "display_name": "Python 3",
   "language": "python",
   "name": "python3"
  },
  "language_info": {
   "codemirror_mode": {
    "name": "ipython",
    "version": 3
   },
   "file_extension": ".py",
   "mimetype": "text/x-python",
   "name": "python",
   "nbconvert_exporter": "python",
   "pygments_lexer": "ipython3",
   "version": "3.6.2"
  }
 },
 "nbformat": 4,
 "nbformat_minor": 2
}
